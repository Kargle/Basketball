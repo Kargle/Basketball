{
 "nbformat": 4,
 "nbformat_minor": 2,
 "metadata": {
  "language_info": {
   "name": "python",
   "codemirror_mode": {
    "name": "ipython",
    "version": 3
   },
   "version": "3.7.3-final"
  },
  "orig_nbformat": 2,
  "file_extension": ".py",
  "mimetype": "text/x-python",
  "name": "python",
  "npconvert_exporter": "python",
  "pygments_lexer": "ipython3",
  "version": 3,
  "kernelspec": {
   "name": "python37364bitanaconda3virtualenvbfa5aa89ad4a4a17a8c8a14bdb5884cf",
   "display_name": "Python 3.7.3 64-bit ('anaconda3': virtualenv)"
  }
 },
 "cells": [
  {
   "cell_type": "code",
   "execution_count": 1,
   "metadata": {},
   "outputs": [],
   "source": [
    "import numpy as np\n",
    "import pandas as pd\n",
    "import os\n",
    "import sys\n",
    "import time"
   ]
  },
  {
   "cell_type": "code",
   "execution_count": 2,
   "metadata": {},
   "outputs": [],
   "source": [
    "seeds = pd.read_csv(os.path.join(sys.path[0], '../Data/2020DataFiles/2020DataFiles/2020-Mens-Data/MDataFiles_Stage1/MNCAATourneySeeds.csv'))\n",
    "tourneyCompactResults = pd.read_csv(os.path.join(sys.path[0], '../Data/2020DataFiles/2020DataFiles/2020-Mens-Data/MDataFiles_Stage1/MNCAATourneyCompactResults.csv'))\n",
    "regSeasCompactResults = pd.read_csv(os.path.join(sys.path[0], '../Data/2020DataFiles/2020DataFiles/2020-Mens-Data/MDataFiles_Stage1/MRegularSeasonCompactResults.csv'))\n",
    "regSeasDetailedResults = pd.read_csv(os.path.join(sys.path[0], '../Data/2020DataFiles/2020DataFiles/2020-Mens-Data/MDataFiles_Stage1/MRegularSeasonDetailedResults.csv'))\n",
    ""
   ]
  },
  {
   "cell_type": "code",
   "execution_count": null,
   "metadata": {},
   "outputs": [],
   "source": [
    "print('')\n",
    "print(seeds[0:5])\n",
    "print(results[0:5])"
   ]
  },
  {
   "cell_type": "code",
   "execution_count": null,
   "metadata": {},
   "outputs": [],
   "source": [
    "seeds['TeamID'] = pd.Categorical(seeds.TeamID)\n",
    "seeds['section'] = seeds.Seed.str.extract(r'(.)')\n",
    "seeds['numSeed'] = seeds.Seed.str.extract(r'([0-9][0-9])')\n",
    "seeds['playInRank'] = seeds.Seed.str.extract(r'[0-9][0-9](.?)')\n",
    "\n",
    "seeds['playInRank'].replace(to_replace = ['a', 'b', ''], value = [1, 2, 0], inplace = True)\n",
    "seeds['playInRank'] = seeds.playInRank.astype(float)\n",
    "\n",
    "seeds['numSeed'] = seeds.numSeed.astype(float)\n",
    "\n",
    "seeds['numSeed'] = seeds.numSeed + (seeds.playInRank / 10)\n",
    "\n",
    "seeds.drop(['Seed', 'playInRank'], axis = 1, inplace = True)"
   ]
  },
  {
   "cell_type": "code",
   "execution_count": null,
   "metadata": {},
   "outputs": [],
   "source": [
    "seeds.to_csv('test.csv', index = False)"
   ]
  },
  {
   "cell_type": "code",
   "execution_count": null,
   "metadata": {},
   "outputs": [],
   "source": [
    "results['WTeamID'] = pd.Categorical(results.WTeamID)\n",
    "results['LTeamID'] = pd.Categorical(results.LTeamID)"
   ]
  },
  {
   "cell_type": "code",
   "execution_count": null,
   "metadata": {},
   "outputs": [],
   "source": [
    "seeds.rename(columns = {'TeamID': 'WTeamID'}, inplace = True)\n",
    "seedResults = pd.merge(results, seeds, on = ['WTeamID', 'Season'])\n",
    "seedResults.rename(columns = {'section': 'WSection', 'numSeed': 'WNumSeed'}, inplace = True)\n",
    "\n",
    "seeds.rename(columns = {'WTeamID': 'LTeamID'}, inplace = True)\n",
    "seedResults = pd.merge(seedResults, seeds, on = ['LTeamID', 'Season'])\n",
    "seedResults.rename(columns = {'section': 'LSection', 'numSeed': 'LNumSeed'}, inplace = True)\n",
    "\n",
    "seeds.rename(columns = {'LTeamID': 'TeamID'}, inplace = True)"
   ]
  },
  {
   "cell_type": "code",
   "execution_count": null,
   "metadata": {},
   "outputs": [],
   "source": [
    "#regSeasTotals1985 = pd.read_pickle(path = os.path.join(sys.path[0], '../GeneratedData/regSeasTotals1985.pkl'))\n",
    "#seedResults1985 = seedResults[:]\n",
    "print('rstFn')\n",
    "print(regSeasTotals1985.head())\n",
    "print('srFn')\n",
    "print(seedResults1985.head())"
   ]
  },
  {
   "cell_type": "code",
   "execution_count": null,
   "metadata": {},
   "outputs": [],
   "source": [
    "srFn = seedResults1985[:]\n",
    "rstFn = regSeasTotals1985[:]\n",
    "\n",
    "rstFn.rename(columns = {'TeamID': 'WTeamID'}, inplace = True)\n",
    "outDF = pd.merge(srFn, rstFn, on = ['WTeamID', 'Season'])\n",
    "outDF.rename(columns = {'W': 'WWins', 'L': 'WLosses', 'PF': 'WPF', 'PA': 'WPA'}, inplace = True)\n",
    "\n",
    "rstFn.rename(columns = {'WTeamID': 'LTeamID'}, inplace = True)\n",
    "outDF = pd.merge(outDF, rstFn, on = ['LTeamID', 'Season']) \n",
    "outDF.rename(columns = {'W': 'LWins', 'L': 'LLosses', 'PF': 'LPF', 'PA': 'LPA'}, inplace = True)"
   ]
  },
  {
   "cell_type": "code",
   "execution_count": null,
   "metadata": {},
   "outputs": [],
   "source": [
    "outDF.head()"
   ]
  },
  {
   "cell_type": "code",
   "execution_count": null,
   "metadata": {},
   "outputs": [],
   "source": [
    "nrow = seedResults.shape[0]\n",
    "seedResults['WExpected'] = seedResults.WTeamID\n",
    "\n",
    "start = time.time()\n",
    "\n",
    "for i in range(nrow):\n",
    "    if seedResults.loc[i, 'WNumSeed'] >= seedResults.loc[i, 'LNumSeed']:\n",
    "        seedResults.loc[i, 'WExpected'] = seedResults.loc[i, 'LTeamID']\n",
    "\n",
    "end = time.time()\n",
    "\n",
    "print(end - start)\n",
    "\n",
    "seedResults['correctGuess'] = seedResults.WExpected == seedResults.WTeamID"
   ]
  },
  {
   "cell_type": "code",
   "execution_count": null,
   "metadata": {},
   "outputs": [],
   "source": [
    "accuracy = seedResults.correctGuess.sum() / nrow\n",
    "print(\"Picking highest seed strategy accuracy: \", accuracy)"
   ]
  },
  {
   "cell_type": "code",
   "execution_count": null,
   "metadata": {},
   "outputs": [],
   "source": [
    "start = time.time()\n",
    "\n",
    "years = regSeasResults.Season.unique()\n",
    "masterSeasonTotals = pd.DataFrame(columns = ['Season', 'TeamID', 'W', 'L', 'PF', 'PA'])\n",
    "\n",
    "for year in years[0:2]:\n",
    "    print(year)\n",
    "    actSeason = regSeasResults[regSeasResults.Season == year]\n",
    "    actSeason.reset_index(inplace = True)\n",
    "    teams = actSeason.WTeamID.append(actSeason.LTeamID).unique()\n",
    "    nrow = len(teams)\n",
    "    actSeasonTotals = pd.DataFrame(data = np.zeros((nrow, 6)), columns = ['Season', 'TeamID', 'W', 'L', 'PF', 'PA'])\n",
    "\n",
    "    actSeasonTotals['Season'] = pd.Series(data = [year] * nrow)\n",
    "    actSeasonTotals['TeamID'] = pd.Series(data = teams)\n",
    "\n",
    "    for game in range(actSeason.shape[0]):\n",
    "        WInd = actSeasonTotals.index[actSeasonTotals['TeamID'] == actSeason.loc[game, 'WTeamID']].tolist()[0]\n",
    "        LInd = actSeasonTotals.index[actSeasonTotals['TeamID'] == actSeason.loc[game, 'LTeamID']].tolist()[0]\n",
    "        actSeasonTotals.loc[WInd, 'W'] += 1\n",
    "        actSeasonTotals.loc[LInd, 'L'] += 1\n",
    "        actSeasonTotals.loc[WInd, 'PF'] += actSeason.loc[game, 'WScore']\n",
    "        actSeasonTotals.loc[WInd, 'PA'] += actSeason.loc[game, 'LScore']\n",
    "        actSeasonTotals.loc[LInd, 'PF'] += actSeason.loc[game, 'LScore']\n",
    "        actSeasonTotals.loc[LInd, 'PA'] += actSeason.loc[game, 'WScore']\n",
    "\n",
    "    masterSeasonTotals = pd.concat([masterSeasonTotals, actSeasonTotals], axis = 0)\n",
    "        \n",
    "end = time.time()\n",
    "\n",
    "print(end - start)"
   ]
  },
  {
   "cell_type": "code",
   "execution_count": 6,
   "metadata": {},
   "outputs": [
    {
     "output_type": "error",
     "ename": "NameError",
     "evalue": "name 'regSeasResults' is not defined",
     "traceback": [
      "\u001b[0;31m---------------------------------------------------------------------------\u001b[0m",
      "\u001b[0;31mNameError\u001b[0m                                 Traceback (most recent call last)",
      "\u001b[0;32m<ipython-input-6-6bece85c66a1>\u001b[0m in \u001b[0;36m<module>\u001b[0;34m\u001b[0m\n\u001b[0;32m----> 1\u001b[0;31m \u001b[0myears\u001b[0m \u001b[0;34m=\u001b[0m \u001b[0mregSeasResults\u001b[0m\u001b[0;34m.\u001b[0m\u001b[0mSeason\u001b[0m\u001b[0;34m.\u001b[0m\u001b[0munique\u001b[0m\u001b[0;34m(\u001b[0m\u001b[0;34m)\u001b[0m\u001b[0;34m\u001b[0m\u001b[0;34m\u001b[0m\u001b[0m\n\u001b[0m\u001b[1;32m      2\u001b[0m \u001b[0mcolumns\u001b[0m \u001b[0;34m=\u001b[0m \u001b[0;34m[\u001b[0m\u001b[0;34m'Season'\u001b[0m\u001b[0;34m,\u001b[0m \u001b[0;34m'TeamID'\u001b[0m\u001b[0;34m,\u001b[0m \u001b[0;34m'G'\u001b[0m\u001b[0;34m,\u001b[0m \u001b[0;34m'W'\u001b[0m\u001b[0;34m,\u001b[0m \u001b[0;34m'L'\u001b[0m\u001b[0;34m,\u001b[0m \u001b[0;34m'PF'\u001b[0m\u001b[0;34m,\u001b[0m \u001b[0;34m'PA'\u001b[0m\u001b[0;34m,\u001b[0m \u001b[0;34m'FGM'\u001b[0m\u001b[0;34m,\u001b[0m \u001b[0;34m'FGA'\u001b[0m\u001b[0;34m,\u001b[0m \u001b[0;34m'FGM3'\u001b[0m\u001b[0;34m,\u001b[0m \u001b[0;34m'FGA3'\u001b[0m\u001b[0;34m,\u001b[0m \u001b[0;34m'FTM'\u001b[0m\u001b[0;34m,\u001b[0m \u001b[0;34m'FTA'\u001b[0m\u001b[0;34m,\u001b[0m \u001b[0;34m'OR'\u001b[0m\u001b[0;34m,\u001b[0m \u001b[0;34m'DR'\u001b[0m\u001b[0;34m,\u001b[0m \u001b[0;34m'Ast'\u001b[0m\u001b[0;34m,\u001b[0m \u001b[0;34m'TO'\u001b[0m\u001b[0;34m,\u001b[0m \u001b[0;34m'Stl'\u001b[0m\u001b[0;34m,\u001b[0m \u001b[0;34m'Blk'\u001b[0m\u001b[0;34m,\u001b[0m \u001b[0;34m'PF'\u001b[0m\u001b[0;34m]\u001b[0m\u001b[0;34m\u001b[0m\u001b[0;34m\u001b[0m\u001b[0m\n\u001b[1;32m      3\u001b[0m \u001b[0mmasterSeasonTotals\u001b[0m \u001b[0;34m=\u001b[0m \u001b[0mpd\u001b[0m\u001b[0;34m.\u001b[0m\u001b[0mDataFrame\u001b[0m\u001b[0;34m(\u001b[0m\u001b[0mcolumns\u001b[0m \u001b[0;34m=\u001b[0m \u001b[0mcolumns\u001b[0m\u001b[0;34m)\u001b[0m\u001b[0;34m\u001b[0m\u001b[0;34m\u001b[0m\u001b[0m\n\u001b[1;32m      4\u001b[0m \u001b[0mncol\u001b[0m \u001b[0;34m=\u001b[0m \u001b[0mlen\u001b[0m\u001b[0;34m(\u001b[0m\u001b[0mcolumns\u001b[0m\u001b[0;34m)\u001b[0m\u001b[0;34m\u001b[0m\u001b[0;34m\u001b[0m\u001b[0m\n\u001b[1;32m      5\u001b[0m \u001b[0;34m''\u001b[0m\u001b[0;34m\u001b[0m\u001b[0;34m\u001b[0m\u001b[0m\n",
      "\u001b[0;31mNameError\u001b[0m: name 'regSeasResults' is not defined"
     ]
    }
   ],
   "source": [
    "years = regSeasResults.Season.unique()\n",
    "columns = ['Season', 'TeamID', 'G', 'W', 'L', 'PF', 'PA', 'FGM', 'FGA', 'FGM3', 'FGA3', 'FTM', 'FTA', 'OR', 'DR', 'Ast', 'TO', 'Stl', 'Blk', 'PF']\n",
    "masterSeasonTotals = pd.DataFrame(columns = columns)\n",
    "ncol = len(columns)\n",
    "\n",
    "for year in years:\n",
    "    actSeason = regSeasResults[regSeasResults.Season == year]\n",
    "    actSeason.reset_index(inplace = True)\n",
    "    teams = actSeason.WTeamID.append(actSeason.LTeamID).unique()\n",
    "    nrow = len(teams)\n",
    "    actSeasonTotals = pd.DataFrame(data = np.zeros((nrow, ncol)), columns = columns)\n",
    "\n",
    "    for game in range(actSeason.shape[0]):\n",
    "        WInd = actSeasonTotals.index[actSeasonTotals['TeamID'] == actSeason.loc[game, 'WTeamID']].tolist()[0]\n",
    "        actSeasonTotals.index[actSeasonTotals['TeamID'] == actSeason.loc[game, 'LTeamID']].tolist()[0]\n",
    "        actSeasonTotals.loc[WInd, 'W'] += 1\n",
    "        actSeasonTotals.loc[LInd, 'L'] += 1\n",
    "        actSeasonTotals.loc[WInd, 'PF'] += actSeason.loc[game, 'WScore']\n",
    "        actSeasonTotals.loc[WInd, 'PA'] += actSeason.loc[game, 'LScore']\n",
    "        actSeasonTotals.loc[LInd, 'PF'] += actSeason.loc[game, 'LScore']\n",
    "        actSeasonTotals.loc[LInd, 'PA'] += actSeason.loc[game, 'WScore']\n",
    "\n",
    "        if ncol > 6:\n",
    "            for j in columns[7:]:\n",
    "                actSeasonTotals.loc[WInd, j] += actSeason.loc[game, ('W' + j)]\n",
    "                actSeasonTotals.loc[LInd, j] += actSeason.loc[game, ('L' + j)]\n",
    "\n",
    "    masterSeasonTotals = pd.concat([masterSeasonTotals, actSeasonTotals], axis = 0)\n",
    "        "
   ]
  },
  {
   "cell_type": "code",
   "execution_count": 7,
   "metadata": {},
   "outputs": [
    {
     "output_type": "execute_result",
     "data": {
      "text/plain": "(0, 6)"
     },
     "metadata": {},
     "execution_count": 7
    }
   ],
   "source": [
    "jack = pd.DataFrame(columns = ['Season', 'TeamID', 'W', 'L', 'PF', 'PA'])\n",
    "jack.shape"
   ]
  },
  {
   "cell_type": "code",
   "execution_count": 13,
   "metadata": {},
   "outputs": [
    {
     "output_type": "execute_result",
     "data": {
      "text/plain": "'WFGM'"
     },
     "metadata": {},
     "execution_count": 13
    }
   ],
   "source": [
    "regSeasDetailedResults.columns\n",
    "columns = ['Season', 'TeamID', 'G', 'W', 'L', 'PF', 'PA', 'FGM', 'FGA', 'FGM3', 'FGA3', 'FTM', 'FTA', 'OR', 'DR', 'Ast', 'TO', 'Stl', 'Blk', 'PF']\n",
    "'W' + columns[7]"
   ]
  },
  {
   "cell_type": "code",
   "execution_count": null,
   "metadata": {},
   "outputs": [],
   "source": []
  }
 ]
}