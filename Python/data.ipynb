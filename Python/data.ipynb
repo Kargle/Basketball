{
 "nbformat": 4,
 "nbformat_minor": 2,
 "metadata": {
  "language_info": {
   "name": "python",
   "codemirror_mode": {
    "name": "ipython",
    "version": 3
   },
   "version": "3.7.3-final"
  },
  "orig_nbformat": 2,
  "file_extension": ".py",
  "mimetype": "text/x-python",
  "name": "python",
  "npconvert_exporter": "python",
  "pygments_lexer": "ipython3",
  "version": 3,
  "kernelspec": {
   "name": "python37364bitanaconda3virtualenvbfa5aa89ad4a4a17a8c8a14bdb5884cf",
   "display_name": "Python 3.7.3 64-bit ('anaconda3': virtualenv)"
  }
 },
 "cells": [
  {
   "cell_type": "code",
   "execution_count": 8,
   "metadata": {},
   "outputs": [],
   "source": [
    "import numpy as np\n",
    "import pandas as pd\n",
    "import os\n",
    "import sys\n",
    "import time"
   ]
  },
  {
   "cell_type": "code",
   "execution_count": 12,
   "metadata": {},
   "outputs": [],
   "source": [
    "seeds = pd.read_csv(os.path.join(sys.path[0], '../Data/2020DataFiles/2020DataFiles/2020-Mens-Data/MDataFiles_Stage1/MNCAATourneySeeds.csv'))\n",
    "results = pd.read_csv(os.path.join(sys.path[0], '../Data/2020DataFiles/2020DataFiles/2020-Mens-Data/MDataFiles_Stage1/MNCAATourneyCompactResults.csv'))\n",
    "regSeasResults = pd.read_csv(os.path.join(sys.path[0], '../Data/2020DataFiles/2020DataFiles/2020-Mens-Data/MDataFiles_Stage1/MRegularSeasonCompactResults.csv'))\n",
    ""
   ]
  },
  {
   "cell_type": "code",
   "execution_count": 3,
   "metadata": {},
   "outputs": [
    {
     "output_type": "stream",
     "name": "stdout",
     "text": "\n   Season Seed  TeamID\n0    1985  W01    1207\n1    1985  W02    1210\n2    1985  W03    1228\n3    1985  W04    1260\n4    1985  W05    1374\n   Season  DayNum  WTeamID  WScore  LTeamID  LScore WLoc  NumOT\n0    1985     136     1116      63     1234      54    N      0\n1    1985     136     1120      59     1345      58    N      0\n2    1985     136     1207      68     1250      43    N      0\n3    1985     136     1229      58     1425      55    N      0\n4    1985     136     1242      49     1325      38    N      0\n"
    }
   ],
   "source": [
    "print('')\n",
    "print(seeds[0:5])\n",
    "print(results[0:5])"
   ]
  },
  {
   "cell_type": "code",
   "execution_count": 4,
   "metadata": {},
   "outputs": [],
   "source": [
    "seeds['TeamID'] = pd.Categorical(seeds.TeamID)\n",
    "seeds['section'] = seeds.Seed.str.extract(r'(.)')\n",
    "seeds['numSeed'] = seeds.Seed.str.extract(r'([0-9][0-9])')\n",
    "seeds['playInRank'] = seeds.Seed.str.extract(r'[0-9][0-9](.?)')\n",
    "\n",
    "seeds['playInRank'].replace(to_replace = ['a', 'b', ''], value = [1, 2, 0], inplace = True)\n",
    "seeds['playInRank'] = seeds.playInRank.astype(float)\n",
    "\n",
    "seeds['numSeed'] = seeds.numSeed.astype(float)\n",
    "\n",
    "seeds['numSeed'] = seeds.numSeed + (seeds.playInRank / 10)\n",
    "\n",
    "seeds.drop(['Seed', 'playInRank'], axis = 1, inplace = True)"
   ]
  },
  {
   "cell_type": "code",
   "execution_count": null,
   "metadata": {},
   "outputs": [],
   "source": [
    "seeds.to_csv('test.csv', index = False)"
   ]
  },
  {
   "cell_type": "code",
   "execution_count": 5,
   "metadata": {},
   "outputs": [],
   "source": [
    "results['WTeamID'] = pd.Categorical(results.WTeamID)\n",
    "results['LTeamID'] = pd.Categorical(results.LTeamID)"
   ]
  },
  {
   "cell_type": "code",
   "execution_count": 6,
   "metadata": {},
   "outputs": [],
   "source": [
    "seeds.rename(columns = {'TeamID': 'WTeamID'}, inplace = True)\n",
    "seedResults = pd.merge(results, seeds, on = ['WTeamID', 'Season'])\n",
    "seedResults.rename(columns = {'section': 'WSection', 'numSeed': 'WNumSeed'}, inplace = True)\n",
    "\n",
    "seeds.rename(columns = {'WTeamID': 'LTeamID'}, inplace = True)\n",
    "seedResults = pd.merge(seedResults, seeds, on = ['LTeamID', 'Season'])\n",
    "seedResults.rename(columns = {'section': 'LSection', 'numSeed': 'LNumSeed'}, inplace = True)\n",
    "\n",
    "seeds.rename(columns = {'LTeamID': 'TeamID'}, inplace = True)"
   ]
  },
  {
   "cell_type": "code",
   "execution_count": null,
   "metadata": {},
   "outputs": [],
   "source": [
    "seedResults.to_csv('test.csv', index = False)"
   ]
  },
  {
   "cell_type": "code",
   "execution_count": 7,
   "metadata": {},
   "outputs": [
    {
     "output_type": "stream",
     "name": "stdout",
     "text": "0.43552112579345703\n"
    }
   ],
   "source": [
    "nrow = seedResults.shape[0]\n",
    "seedResults['WExpected'] = seedResults.WTeamID\n",
    "\n",
    "start = time.time()\n",
    "\n",
    "for i in range(nrow):\n",
    "    if seedResults.loc[i, 'WNumSeed'] >= seedResults.loc[i, 'LNumSeed']:\n",
    "        seedResults.loc[i, 'WExpected'] = seedResults.loc[i, 'LTeamID']\n",
    "\n",
    "end = time.time()\n",
    "\n",
    "print(end - start)\n",
    "\n",
    "seedResults['correctGuess'] = seedResults.WExpected == seedResults.WTeamID"
   ]
  },
  {
   "cell_type": "code",
   "execution_count": null,
   "metadata": {},
   "outputs": [],
   "source": [
    "accuracy = seedResults.correctGuess.sum() / nrow\n",
    "print(\"Picking highest seed strategy accuracy: \", accuracy)"
   ]
  },
  {
   "cell_type": "code",
   "execution_count": 22,
   "metadata": {},
   "outputs": [
    {
     "output_type": "stream",
     "name": "stdout",
     "text": "1985\n1986\n23.480494022369385\n"
    }
   ],
   "source": [
    "start = time.time()\n",
    "\n",
    "years = regSeasResults.Season.unique()\n",
    "masterSeasonTotals = pd.DataFrame(columns = ['Season', 'TeamID', 'W', 'L', 'PF', 'PA'])\n",
    "\n",
    "for year in years[0:2]:\n",
    "    print(year)\n",
    "    actSeason = regSeasResults[regSeasResults.Season == year]\n",
    "    actSeason.reset_index(inplace = True)\n",
    "    teams = actSeason.WTeamID.append(actSeason.LTeamID).unique()\n",
    "    nrow = len(teams)\n",
    "    actSeasonTotals = pd.DataFrame(data = np.zeros((nrow, 6)), columns = ['Season', 'TeamID', 'W', 'L', 'PF', 'PA'])\n",
    "\n",
    "    actSeasonTotals['Season'] = pd.Series(data = [year] * nrow)\n",
    "    actSeasonTotals['TeamID'] = pd.Series(data = teams)\n",
    "\n",
    "    for game in range(actSeason.shape[0]):\n",
    "        WInd = actSeasonTotals.index[actSeasonTotals['TeamID'] == actSeason.loc[game, 'WTeamID']].tolist()[0]\n",
    "        LInd = actSeasonTotals.index[actSeasonTotals['TeamID'] == actSeason.loc[game, 'LTeamID']].tolist()[0]\n",
    "        actSeasonTotals.loc[WInd, 'W'] += 1\n",
    "        actSeasonTotals.loc[LInd, 'L'] += 1\n",
    "        actSeasonTotals.loc[WInd, 'PF'] += actSeason.loc[game, 'WScore']\n",
    "        actSeasonTotals.loc[WInd, 'PA'] += actSeason.loc[game, 'LScore']\n",
    "        actSeasonTotals.loc[LInd, 'PF'] += actSeason.loc[game, 'LScore']\n",
    "        actSeasonTotals.loc[LInd, 'PA'] += actSeason.loc[game, 'WScore']\n",
    "\n",
    "    masterSeasonTotals = pd.concat([masterSeasonTotals, actSeasonTotals], axis = 0)\n",
    "        \n",
    "end = time.time()\n",
    "\n",
    "print(end - start)"
   ]
  },
  {
   "cell_type": "code",
   "execution_count": null,
   "metadata": {},
   "outputs": [],
   "source": []
  }
 ]
}