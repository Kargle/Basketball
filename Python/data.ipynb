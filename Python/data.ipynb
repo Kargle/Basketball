{
 "nbformat": 4,
 "nbformat_minor": 2,
 "metadata": {
  "language_info": {
   "name": "python",
   "codemirror_mode": {
    "name": "ipython",
    "version": 3
   },
   "version": "3.7.3-final"
  },
  "orig_nbformat": 2,
  "file_extension": ".py",
  "mimetype": "text/x-python",
  "name": "python",
  "npconvert_exporter": "python",
  "pygments_lexer": "ipython3",
  "version": 3,
  "kernelspec": {
   "name": "python37364bitanaconda3virtualenvbfa5aa89ad4a4a17a8c8a14bdb5884cf",
   "display_name": "Python 3.7.3 64-bit ('anaconda3': virtualenv)"
  }
 },
 "cells": [
  {
   "cell_type": "code",
   "execution_count": 8,
   "metadata": {},
   "outputs": [],
   "source": [
    "import numpy as np\n",
    "import pandas as pd\n",
    "import os\n",
    "import sys\n",
    "import time"
   ]
  },
  {
   "cell_type": "code",
   "execution_count": 12,
   "metadata": {},
   "outputs": [],
   "source": [
    "seeds = pd.read_csv(os.path.join(sys.path[0], '../Data/2020DataFiles/2020DataFiles/2020-Mens-Data/MDataFiles_Stage1/MNCAATourneySeeds.csv'))\n",
    "results = pd.read_csv(os.path.join(sys.path[0], '../Data/2020DataFiles/2020DataFiles/2020-Mens-Data/MDataFiles_Stage1/MNCAATourneyCompactResults.csv'))\n",
    "regSeasResults = pd.read_csv(os.path.join(sys.path[0], '../Data/2020DataFiles/2020DataFiles/2020-Mens-Data/MDataFiles_Stage1/MRegularSeasonCompactResults.csv'))\n",
    ""
   ]
  },
  {
   "cell_type": "code",
   "execution_count": 3,
   "metadata": {},
   "outputs": [
    {
     "output_type": "stream",
     "name": "stdout",
     "text": "\n   Season Seed  TeamID\n0    1985  W01    1207\n1    1985  W02    1210\n2    1985  W03    1228\n3    1985  W04    1260\n4    1985  W05    1374\n   Season  DayNum  WTeamID  WScore  LTeamID  LScore WLoc  NumOT\n0    1985     136     1116      63     1234      54    N      0\n1    1985     136     1120      59     1345      58    N      0\n2    1985     136     1207      68     1250      43    N      0\n3    1985     136     1229      58     1425      55    N      0\n4    1985     136     1242      49     1325      38    N      0\n"
    }
   ],
   "source": [
    "print('')\n",
    "print(seeds[0:5])\n",
    "print(results[0:5])"
   ]
  },
  {
   "cell_type": "code",
   "execution_count": 4,
   "metadata": {},
   "outputs": [],
   "source": [
    "seeds['TeamID'] = pd.Categorical(seeds.TeamID)\n",
    "seeds['section'] = seeds.Seed.str.extract(r'(.)')\n",
    "seeds['numSeed'] = seeds.Seed.str.extract(r'([0-9][0-9])')\n",
    "seeds['playInRank'] = seeds.Seed.str.extract(r'[0-9][0-9](.?)')\n",
    "\n",
    "seeds['playInRank'].replace(to_replace = ['a', 'b', ''], value = [1, 2, 0], inplace = True)\n",
    "seeds['playInRank'] = seeds.playInRank.astype(float)\n",
    "\n",
    "seeds['numSeed'] = seeds.numSeed.astype(float)\n",
    "\n",
    "seeds['numSeed'] = seeds.numSeed + (seeds.playInRank / 10)\n",
    "\n",
    "seeds.drop(['Seed', 'playInRank'], axis = 1, inplace = True)"
   ]
  },
  {
   "cell_type": "code",
   "execution_count": null,
   "metadata": {},
   "outputs": [],
   "source": [
    "seeds.to_csv('test.csv', index = False)"
   ]
  },
  {
   "cell_type": "code",
   "execution_count": 5,
   "metadata": {},
   "outputs": [],
   "source": [
    "results['WTeamID'] = pd.Categorical(results.WTeamID)\n",
    "results['LTeamID'] = pd.Categorical(results.LTeamID)"
   ]
  },
  {
   "cell_type": "code",
   "execution_count": 6,
   "metadata": {},
   "outputs": [],
   "source": [
    "seeds.rename(columns = {'TeamID': 'WTeamID'}, inplace = True)\n",
    "seedResults = pd.merge(results, seeds, on = ['WTeamID', 'Season'])\n",
    "seedResults.rename(columns = {'section': 'WSection', 'numSeed': 'WNumSeed'}, inplace = True)\n",
    "\n",
    "seeds.rename(columns = {'WTeamID': 'LTeamID'}, inplace = True)\n",
    "seedResults = pd.merge(seedResults, seeds, on = ['LTeamID', 'Season'])\n",
    "seedResults.rename(columns = {'section': 'LSection', 'numSeed': 'LNumSeed'}, inplace = True)\n",
    "\n",
    "seeds.rename(columns = {'LTeamID': 'TeamID'}, inplace = True)"
   ]
  },
  {
   "cell_type": "code",
   "execution_count": 32,
   "metadata": {},
   "outputs": [
    {
     "output_type": "stream",
     "name": "stdout",
     "text": "rstFn\n  Season TeamID     W     L      PF      PA\n0   1985   1228  23.0   8.0  2115.0  1778.0\n1   1985   1106  10.0  14.0  1719.0  1810.0\n2   1985   1112  18.0   9.0  1796.0  1602.0\n3   1985   1165  12.0  12.0  1473.0  1418.0\n4   1985   1192  19.0   9.0  1901.0  1812.0\nsrFn\n   Season  DayNum  WTeamID  WScore LTeamID  LScore WLoc  NumOT WSection  \\\n0    1985     136     1116      63    1234      54    N      0        X   \n1    1985     136     1120      59    1345      58    N      0        Z   \n2    1985     138     1120      66    1242      64    N      0        Z   \n3    1985     136     1207      68    1250      43    N      0        W   \n4    1985     138     1207      63    1396      46    N      0        W   \n\n   WNumSeed LSection  LNumSeed  WExpected  correctGuess  \n0       9.0        X       8.0       1234         False  \n1      11.0        Z       6.0       1345         False  \n2      11.0        Z       3.0       1242         False  \n3       1.0        W      16.0       1207          True  \n4       1.0        W       8.0       1207          True  \n"
    }
   ],
   "source": [
    "#regSeasTotals1985 = pd.read_pickle(path = os.path.join(sys.path[0], '../GeneratedData/regSeasTotals1985.pkl'))\n",
    "#seedResults1985 = seedResults[:]\n",
    "print('rstFn')\n",
    "print(regSeasTotals1985.head())\n",
    "print('srFn')\n",
    "print(seedResults1985.head())"
   ]
  },
  {
   "cell_type": "code",
   "execution_count": 33,
   "metadata": {},
   "outputs": [],
   "source": [
    "srFn = seedResults1985[:]\n",
    "rstFn = regSeasTotals1985[:]\n",
    "\n",
    "rstFn.rename(columns = {'TeamID': 'WTeamID'}, inplace = True)\n",
    "outDF = pd.merge(srFn, rstFn, on = ['WTeamID', 'Season'])\n",
    "outDF.rename(columns = {'W': 'WWins', 'L': 'WLosses', 'PF': 'WPF', 'PA': 'WPA'}, inplace = True)\n",
    "\n",
    "rstFn.rename(columns = {'WTeamID': 'LTeamID'}, inplace = True)\n",
    "outDF = pd.merge(outDF, rstFn, on = ['LTeamID', 'Season']) \n",
    "outDF.rename(columns = {'W': 'LWins', 'L': 'LLosses', 'PF': 'LPF', 'PA': 'LPA'}, inplace = True)"
   ]
  },
  {
   "cell_type": "code",
   "execution_count": 34,
   "metadata": {},
   "outputs": [
    {
     "output_type": "execute_result",
     "data": {
      "text/plain": "  Season  DayNum WTeamID  WScore  LTeamID  LScore WLoc  NumOT WSection  \\\n0   1985     136    1116      63     1234      54    N      0        X   \n1   1985     136    1120      59     1345      58    N      0        Z   \n2   1985     138    1120      66     1242      64    N      0        Z   \n3   1985     136    1207      68     1250      43    N      0        W   \n4   1985     138    1207      63     1396      46    N      0        W   \n\n   WNumSeed  ... WExpected  correctGuess  WWins  WLosses     WPF     WPA  \\\n0       9.0  ...      1234         False   21.0     12.0  2156.0  2036.0   \n1      11.0  ...      1345         False   18.0     11.0  2040.0  1933.0   \n2      11.0  ...      1242         False   18.0     11.0  2040.0  1933.0   \n3       1.0  ...      1207          True   25.0      2.0  2045.0  1622.0   \n4       1.0  ...      1207          True   25.0      2.0  2045.0  1622.0   \n\n   LWins  LLosses     LPF     LPA  \n0   20.0     10.0  2092.0  1778.0  \n1   17.0      8.0  1728.0  1633.0  \n2   23.0      7.0  2281.0  2112.0  \n3   11.0     18.0  1907.0  2036.0  \n4   24.0      5.0  1903.0  1672.0  \n\n[5 rows x 22 columns]",
      "text/html": "<div>\n<style scoped>\n    .dataframe tbody tr th:only-of-type {\n        vertical-align: middle;\n    }\n\n    .dataframe tbody tr th {\n        vertical-align: top;\n    }\n\n    .dataframe thead th {\n        text-align: right;\n    }\n</style>\n<table border=\"1\" class=\"dataframe\">\n  <thead>\n    <tr style=\"text-align: right;\">\n      <th></th>\n      <th>Season</th>\n      <th>DayNum</th>\n      <th>WTeamID</th>\n      <th>WScore</th>\n      <th>LTeamID</th>\n      <th>LScore</th>\n      <th>WLoc</th>\n      <th>NumOT</th>\n      <th>WSection</th>\n      <th>WNumSeed</th>\n      <th>...</th>\n      <th>WExpected</th>\n      <th>correctGuess</th>\n      <th>WWins</th>\n      <th>WLosses</th>\n      <th>WPF</th>\n      <th>WPA</th>\n      <th>LWins</th>\n      <th>LLosses</th>\n      <th>LPF</th>\n      <th>LPA</th>\n    </tr>\n  </thead>\n  <tbody>\n    <tr>\n      <th>0</th>\n      <td>1985</td>\n      <td>136</td>\n      <td>1116</td>\n      <td>63</td>\n      <td>1234</td>\n      <td>54</td>\n      <td>N</td>\n      <td>0</td>\n      <td>X</td>\n      <td>9.0</td>\n      <td>...</td>\n      <td>1234</td>\n      <td>False</td>\n      <td>21.0</td>\n      <td>12.0</td>\n      <td>2156.0</td>\n      <td>2036.0</td>\n      <td>20.0</td>\n      <td>10.0</td>\n      <td>2092.0</td>\n      <td>1778.0</td>\n    </tr>\n    <tr>\n      <th>1</th>\n      <td>1985</td>\n      <td>136</td>\n      <td>1120</td>\n      <td>59</td>\n      <td>1345</td>\n      <td>58</td>\n      <td>N</td>\n      <td>0</td>\n      <td>Z</td>\n      <td>11.0</td>\n      <td>...</td>\n      <td>1345</td>\n      <td>False</td>\n      <td>18.0</td>\n      <td>11.0</td>\n      <td>2040.0</td>\n      <td>1933.0</td>\n      <td>17.0</td>\n      <td>8.0</td>\n      <td>1728.0</td>\n      <td>1633.0</td>\n    </tr>\n    <tr>\n      <th>2</th>\n      <td>1985</td>\n      <td>138</td>\n      <td>1120</td>\n      <td>66</td>\n      <td>1242</td>\n      <td>64</td>\n      <td>N</td>\n      <td>0</td>\n      <td>Z</td>\n      <td>11.0</td>\n      <td>...</td>\n      <td>1242</td>\n      <td>False</td>\n      <td>18.0</td>\n      <td>11.0</td>\n      <td>2040.0</td>\n      <td>1933.0</td>\n      <td>23.0</td>\n      <td>7.0</td>\n      <td>2281.0</td>\n      <td>2112.0</td>\n    </tr>\n    <tr>\n      <th>3</th>\n      <td>1985</td>\n      <td>136</td>\n      <td>1207</td>\n      <td>68</td>\n      <td>1250</td>\n      <td>43</td>\n      <td>N</td>\n      <td>0</td>\n      <td>W</td>\n      <td>1.0</td>\n      <td>...</td>\n      <td>1207</td>\n      <td>True</td>\n      <td>25.0</td>\n      <td>2.0</td>\n      <td>2045.0</td>\n      <td>1622.0</td>\n      <td>11.0</td>\n      <td>18.0</td>\n      <td>1907.0</td>\n      <td>2036.0</td>\n    </tr>\n    <tr>\n      <th>4</th>\n      <td>1985</td>\n      <td>138</td>\n      <td>1207</td>\n      <td>63</td>\n      <td>1396</td>\n      <td>46</td>\n      <td>N</td>\n      <td>0</td>\n      <td>W</td>\n      <td>1.0</td>\n      <td>...</td>\n      <td>1207</td>\n      <td>True</td>\n      <td>25.0</td>\n      <td>2.0</td>\n      <td>2045.0</td>\n      <td>1622.0</td>\n      <td>24.0</td>\n      <td>5.0</td>\n      <td>1903.0</td>\n      <td>1672.0</td>\n    </tr>\n  </tbody>\n</table>\n<p>5 rows × 22 columns</p>\n</div>"
     },
     "metadata": {},
     "execution_count": 34
    }
   ],
   "source": [
    "outDF.head()"
   ]
  },
  {
   "cell_type": "code",
   "execution_count": 7,
   "metadata": {},
   "outputs": [
    {
     "output_type": "stream",
     "name": "stdout",
     "text": "0.43552112579345703\n"
    }
   ],
   "source": [
    "nrow = seedResults.shape[0]\n",
    "seedResults['WExpected'] = seedResults.WTeamID\n",
    "\n",
    "start = time.time()\n",
    "\n",
    "for i in range(nrow):\n",
    "    if seedResults.loc[i, 'WNumSeed'] >= seedResults.loc[i, 'LNumSeed']:\n",
    "        seedResults.loc[i, 'WExpected'] = seedResults.loc[i, 'LTeamID']\n",
    "\n",
    "end = time.time()\n",
    "\n",
    "print(end - start)\n",
    "\n",
    "seedResults['correctGuess'] = seedResults.WExpected == seedResults.WTeamID"
   ]
  },
  {
   "cell_type": "code",
   "execution_count": null,
   "metadata": {},
   "outputs": [],
   "source": [
    "accuracy = seedResults.correctGuess.sum() / nrow\n",
    "print(\"Picking highest seed strategy accuracy: \", accuracy)"
   ]
  },
  {
   "cell_type": "code",
   "execution_count": 22,
   "metadata": {},
   "outputs": [
    {
     "output_type": "stream",
     "name": "stdout",
     "text": "1985\n1986\n23.480494022369385\n"
    }
   ],
   "source": [
    "start = time.time()\n",
    "\n",
    "years = regSeasResults.Season.unique()\n",
    "masterSeasonTotals = pd.DataFrame(columns = ['Season', 'TeamID', 'W', 'L', 'PF', 'PA'])\n",
    "\n",
    "for year in years[0:2]:\n",
    "    print(year)\n",
    "    actSeason = regSeasResults[regSeasResults.Season == year]\n",
    "    actSeason.reset_index(inplace = True)\n",
    "    teams = actSeason.WTeamID.append(actSeason.LTeamID).unique()\n",
    "    nrow = len(teams)\n",
    "    actSeasonTotals = pd.DataFrame(data = np.zeros((nrow, 6)), columns = ['Season', 'TeamID', 'W', 'L', 'PF', 'PA'])\n",
    "\n",
    "    actSeasonTotals['Season'] = pd.Series(data = [year] * nrow)\n",
    "    actSeasonTotals['TeamID'] = pd.Series(data = teams)\n",
    "\n",
    "    for game in range(actSeason.shape[0]):\n",
    "        WInd = actSeasonTotals.index[actSeasonTotals['TeamID'] == actSeason.loc[game, 'WTeamID']].tolist()[0]\n",
    "        LInd = actSeasonTotals.index[actSeasonTotals['TeamID'] == actSeason.loc[game, 'LTeamID']].tolist()[0]\n",
    "        actSeasonTotals.loc[WInd, 'W'] += 1\n",
    "        actSeasonTotals.loc[LInd, 'L'] += 1\n",
    "        actSeasonTotals.loc[WInd, 'PF'] += actSeason.loc[game, 'WScore']\n",
    "        actSeasonTotals.loc[WInd, 'PA'] += actSeason.loc[game, 'LScore']\n",
    "        actSeasonTotals.loc[LInd, 'PF'] += actSeason.loc[game, 'LScore']\n",
    "        actSeasonTotals.loc[LInd, 'PA'] += actSeason.loc[game, 'WScore']\n",
    "\n",
    "    masterSeasonTotals = pd.concat([masterSeasonTotals, actSeasonTotals], axis = 0)\n",
    "        \n",
    "end = time.time()\n",
    "\n",
    "print(end - start)"
   ]
  },
  {
   "cell_type": "code",
   "execution_count": null,
   "metadata": {},
   "outputs": [],
   "source": []
  }
 ]
}