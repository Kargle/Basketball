{
 "nbformat": 4,
 "nbformat_minor": 2,
 "metadata": {
  "language_info": {
   "name": "python",
   "codemirror_mode": {
    "name": "ipython",
    "version": 3
   },
   "version": "3.7.3-final"
  },
  "orig_nbformat": 2,
  "file_extension": ".py",
  "mimetype": "text/x-python",
  "name": "python",
  "npconvert_exporter": "python",
  "pygments_lexer": "ipython3",
  "version": 3,
  "kernelspec": {
   "name": "python37364bitanaconda3virtualenvbfa5aa89ad4a4a17a8c8a14bdb5884cf",
   "display_name": "Python 3.7.3 64-bit ('anaconda3': virtualenv)"
  }
 },
 "cells": [
  {
   "cell_type": "code",
   "execution_count": 1,
   "metadata": {},
   "outputs": [],
   "source": [
    "import numpy as np\n",
    "import pandas as pd\n",
    "import sklearn\n",
    "import time\n",
    "import os\n",
    "from data import *\n",
    "from models import *\n",
    "from simulation import *"
   ]
  },
  {
   "cell_type": "code",
   "execution_count": 3,
   "metadata": {},
   "outputs": [],
   "source": [
    "seedResults = createSeedResultsDF(seeds, tourneyCompactResults)\n",
    "\n",
    "matchups = [generateMatchups(1), generateMatchups(2), generateMatchups(3), generateMatchups(4)]"
   ]
  },
  {
   "cell_type": "code",
   "execution_count": 5,
   "metadata": {},
   "outputs": [
    {
     "output_type": "stream",
     "name": "stdout",
     "text": "\nIndex(['Season', 'TeamID', 'G', 'W', 'L', 'Pts', 'PA', 'FGM', 'FGA', 'FGM3',\n       'FGA3', 'FTM', 'FTA', 'OR', 'DR', 'Ast', 'TO', 'Stl', 'Blk', 'PF'],\n      dtype='object')\n"
    }
   ],
   "source": [
    "print('')\n",
    "print(regSeasDetailedTotals.columns)"
   ]
  },
  {
   "cell_type": "code",
   "execution_count": 12,
   "metadata": {},
   "outputs": [],
   "source": [
    "def createMasterDetailedDF(seedResults, regSeasDetailedTotals):\n",
    "    srFn = seedResults[:] #create copy to avoid modifying original\n",
    "    rstFn = regSeasDetailedTotals[:]\n",
    "\n",
    "    rstFn.rename(columns = {'TeamID': 'WTeamID'}, inplace = True) #this procedure is the same as in createSeedResultsDF function above\n",
    "    outDF = pd.merge(srFn, rstFn, on = ['WTeamID', 'Season'])\n",
    "\n",
    "    outDF.rename(columns = {'G': 'WG','W': 'WWins', 'L': 'WLosses', 'Pts': 'WPts', 'PA': 'WPA', 'FGM': 'WFGM', 'FGA': 'WFGA', 'FGM3': 'WFGM3',\n",
    "       'FGA3': 'WFGA3', 'FTM': 'WFTM', 'FTA': 'WFTA', 'OR': 'WOR', 'DR': 'WDR', 'Ast': 'WAst', 'TO': 'WTO', 'Stl': 'WStl', 'Blk': 'WBlk', 'PF': 'WPF'}, inplace = True)\n",
    "\n",
    "    rstFn.rename(columns = {'WTeamID': 'LTeamID'}, inplace = True)\n",
    "    outDF = pd.merge(outDF, rstFn, on = ['LTeamID', 'Season'])\n",
    "\n",
    "    outDF.rename(columns = {'G': 'LG','W': 'LWins', 'L': 'LLosses', 'Pts': 'LPts', 'PA': 'LPA', 'FGM': 'LFGM', 'FGA': 'LFGA', 'FGM3': 'LFGM3',\n",
    "       'FGA3': 'LFGA3', 'FTM': 'LFTM', 'FTA': 'LFTA', 'OR': 'LOR', 'DR': 'LDR', 'Ast': 'LAst', 'TO': 'LTO', 'Stl': 'LStl', 'Blk': 'LBlk', 'PF': 'LPF'}, inplace = True)\n",
    "\n",
    "    return outDF"
   ]
  },
  {
   "cell_type": "code",
   "execution_count": 14,
   "metadata": {},
   "outputs": [
    {
     "output_type": "execute_result",
     "data": {
      "text/plain": "Index(['Season', 'DayNum', 'WTeamID', 'WScore', 'LTeamID', 'LScore', 'WLoc',\n       'NumOT', 'WSection', 'WNumSeed', 'LSection', 'LNumSeed', 'WG', 'WWins',\n       'WLosses', 'WPts', 'WPA', 'WFGM', 'WFGA', 'WFGM3', 'WFGA3', 'WFTM',\n       'WFTA', 'WOR', 'WDR', 'WAst', 'WTO', 'WStl', 'WBlk', 'WPF', 'LG',\n       'LWins', 'LLosses', 'LPts', 'LPA', 'LFGM', 'LFGA', 'LFGM3', 'LFGA3',\n       'LFTM', 'LFTA', 'LOR', 'LDR', 'LAst', 'LTO', 'LStl', 'LBlk', 'LPF'],\n      dtype='object')"
     },
     "metadata": {},
     "execution_count": 14
    }
   ],
   "source": [
    "jack = createMasterDetailedDF(seedResults, regSeasDetailedTotals)\n",
    "jack.columns"
   ]
  },
  {
   "cell_type": "code",
   "execution_count": null,
   "metadata": {},
   "outputs": [],
   "source": [
    "def createMasterCompactDF(seedResults, regSeasCompactTotals):\n",
    "    srFn = seedResults[:] #create copy to avoid modifying original\n",
    "    rstFn = regSeasCompactTotals[:]\n",
    "\n",
    "    rstFn.rename(columns = {'TeamID': 'WTeamID'}, inplace = True) #this procedure is the same as in createSeedResultsDF function above\n",
    "    outDF = pd.merge(srFn, rstFn, on = ['WTeamID', 'Season'])\n",
    "    outDF.rename(columns = {'G': 'WG','W': 'WWins', 'L': 'WLosses', 'Pts': 'WPts', 'PA': 'WPA'}, inplace = True)\n",
    "\n",
    "    rstFn.rename(columns = {'WTeamID': 'LTeamID'}, inplace = True)\n",
    "    outDF = pd.merge(outDF, rstFn, on = ['LTeamID', 'Season']) \n",
    "    outDF.rename(columns = {'G': 'LG','W': 'LWins', 'L': 'LLosses', 'Pts': 'LPts', 'PA': 'LPA'}, inplace = True)\n",
    "\n",
    "    return outDF"
   ]
  },
  {
   "cell_type": "code",
   "execution_count": 10,
   "metadata": {},
   "outputs": [
    {
     "output_type": "stream",
     "name": "stdout",
     "text": "\n  Season  DayNum WTeamID  WScore  LTeamID  LScore WLoc  NumOT WSection  \\\n0   1985     136    1116      63     1234      54    N      0        X   \n1   1985     136    1120      59     1345      58    N      0        Z   \n2   1985     138    1120      66     1242      64    N      0        Z   \n3   1985     136    1207      68     1250      43    N      0        W   \n4   1985     138    1207      63     1396      46    N      0        W   \n\n   WNumSeed  ...    WG  WWins  WLosses    WPts     WPA    LG  LWins  LLosses  \\\n0       9.0  ...  33.0   21.0     12.0  2156.0  2036.0  30.0   20.0     10.0   \n1      11.0  ...  29.0   18.0     11.0  2040.0  1933.0  25.0   17.0      8.0   \n2      11.0  ...  29.0   18.0     11.0  2040.0  1933.0  30.0   23.0      7.0   \n3       1.0  ...  27.0   25.0      2.0  2045.0  1622.0  29.0   11.0     18.0   \n4       1.0  ...  27.0   25.0      2.0  2045.0  1622.0  29.0   24.0      5.0   \n\n     LPts     LPA  \n0  2092.0  1778.0  \n1  1728.0  1633.0  \n2  2281.0  2112.0  \n3  1907.0  2036.0  \n4  1903.0  1672.0  \n\n[5 rows x 22 columns]\n"
    }
   ],
   "source": [
    "print('')\n",
    "print(master1985.head())"
   ]
  },
  {
   "cell_type": "code",
   "execution_count": 24,
   "metadata": {},
   "outputs": [],
   "source": [
    "jack = tourneySim(2019, highSeedWins, master1985)\n",
    "karisch = tourneyActual(2019, master1985)\n"
   ]
  },
  {
   "cell_type": "code",
   "execution_count": 25,
   "metadata": {},
   "outputs": [
    {
     "output_type": "stream",
     "name": "stdout",
     "text": "0.6865671641791045\nGuess:  1181  Actual:  1181\nGuess:  1433  Actual:  1416\nGuess:  1280  Actual:  1251\nGuess:  1439  Actual:  1439\nGuess:  1268  Actual:  1268\nGuess:  1261  Actual:  1261\nGuess:  1257  Actual:  1278\nGuess:  1277  Actual:  1277\nGuess:  1211  Actual:  1211\nGuess:  1393  Actual:  1124\nGuess:  1266  Actual:  1293\nGuess:  1199  Actual:  1199\nGuess:  1138  Actual:  1138\nGuess:  1403  Actual:  1403\nGuess:  1305  Actual:  1196\nGuess:  1276  Actual:  1276\nGuess:  1314  Actual:  1314\nGuess:  1429  Actual:  1449\nGuess:  1120  Actual:  1120\nGuess:  1242  Actual:  1242\nGuess:  1235  Actual:  1326\nGuess:  1222  Actual:  1222\nGuess:  1459  Actual:  1459\nGuess:  1246  Actual:  1246\nGuess:  1438  Actual:  1438\nGuess:  1279  Actual:  1328\nGuess:  1458  Actual:  1332\nGuess:  1243  Actual:  1414\nGuess:  1437  Actual:  1437\nGuess:  1345  Actual:  1345\nGuess:  1153  Actual:  1234\nGuess:  1397  Actual:  1397\nGuess:  1181  Actual:  1181\nGuess:  1439  Actual:  1439\nGuess:  1261  Actual:  1261\nGuess:  1277  Actual:  1277\nGuess:  1211  Actual:  1211\nGuess:  1199  Actual:  1199\nGuess:  1403  Actual:  1403\nGuess:  1276  Actual:  1276\nGuess:  1314  Actual:  1314\nGuess:  1242  Actual:  1120\nGuess:  1222  Actual:  1222\nGuess:  1246  Actual:  1246\nGuess:  1438  Actual:  1438\nGuess:  1243  Actual:  1332\nGuess:  1345  Actual:  1345\nGuess:  1397  Actual:  1397\nGuess:  1181  Actual:  1181\nGuess:  1277  Actual:  1277\nGuess:  1211  Actual:  1211\nGuess:  1276  Actual:  1403\nGuess:  1314  Actual:  1120\nGuess:  1246  Actual:  1246\nGuess:  1438  Actual:  1438\nGuess:  1397  Actual:  1345\nGuess:  1181  Actual:  1277\nGuess:  1211  Actual:  1403\nGuess:  1314  Actual:  1120\nGuess:  1438  Actual:  1438\nGuess:  1211  Actual:  1403\nGuess:  1438  Actual:  1438\nGuess:  1438  Actual:  1438\nGuess:  1125  Actual:  1125\nGuess:  1295  Actual:  1295\nGuess:  1113  Actual:  1113\nGuess:  1192  Actual:  1192\n"
    }
   ],
   "source": [
    "accuracyVector = [x == y for x, y in zip(jack, karisch)]\n",
    "accuracy = sum(accuracyVector) / len(accuracyVector)\n",
    "\n",
    "print(accuracy)\n",
    "\n",
    "for i in range(len(jack)):\n",
    "    print('Guess: ', jack[i], ' Actual: ', karisch[i])"
   ]
  },
  {
   "cell_type": "code",
   "execution_count": 20,
   "metadata": {},
   "outputs": [
    {
     "output_type": "execute_result",
     "data": {
      "text/plain": "42"
     },
     "metadata": {},
     "execution_count": 20
    }
   ],
   "source": [
    "sum(accuracyVector)"
   ]
  },
  {
   "cell_type": "code",
   "execution_count": 70,
   "metadata": {},
   "outputs": [
    {
     "output_type": "stream",
     "name": "stdout",
     "text": "<list_reverseiterator object at 0xa188b2390>\n"
    }
   ],
   "source": [
    "jack = [[1, 2], 3, [4, 5], [6, 7, 8]]\n",
    "\n",
    "\n",
    "\"\"\"\n",
    "        winWBool = nonPlayInGames.loc[i, 'WSection'] == 'W'\n",
    "        winXBool = nonPlayInGames.loc[i, 'WSection'] == 'X'\n",
    "        loseWBool = nonPlayInGames.loc[i, 'LSection'] == 'W'\n",
    "        loseXBool = nonPlayInGames.loc[i, 'LSection'] == 'X'\n",
    "        winYBool = nonPlayInGames.loc[i, 'WSection'] == 'Y'\n",
    "        winZBool = nonPlayInGames.loc[i, 'WSection'] == 'Z'\n",
    "        loseYBool = nonPlayInGames.loc[i, 'LSection'] == 'Y'\n",
    "        loseZBool = nonPlayInGames.loc[i, 'LSection'] == 'Z'\n",
    "        if (winWBool and loseXBool) or (winXBool and loseWBool):\n",
    "\"\"\"\n",
    "\n",
    "print(reversed(jack))"
   ]
  },
  {
   "cell_type": "code",
   "execution_count": 62,
   "metadata": {},
   "outputs": [
    {
     "output_type": "stream",
     "name": "stdout",
     "text": "\n  Season  DayNum WTeamID  WScore  LTeamID  LScore WLoc  NumOT WSection  \\\n0   1985     136    1116      63     1234      54    N      0        X   \n1   1985     136    1120      59     1345      58    N      0        Z   \n2   1985     138    1120      66     1242      64    N      0        Z   \n3   1985     136    1207      68     1250      43    N      0        W   \n4   1985     138    1207      63     1396      46    N      0        W   \n\n   WNumSeed  ...    WG  WWins  WLosses    WPts     WPA    LG  LWins  LLosses  \\\n0       9.0  ...  33.0   21.0     12.0  2156.0  2036.0  30.0   20.0     10.0   \n1      11.0  ...  29.0   18.0     11.0  2040.0  1933.0  25.0   17.0      8.0   \n2      11.0  ...  29.0   18.0     11.0  2040.0  1933.0  30.0   23.0      7.0   \n3       1.0  ...  27.0   25.0      2.0  2045.0  1622.0  29.0   11.0     18.0   \n4       1.0  ...  27.0   25.0      2.0  2045.0  1622.0  29.0   24.0      5.0   \n\n     LPts     LPA  \n0  2092.0  1778.0  \n1  1728.0  1633.0  \n2  2281.0  2112.0  \n3  1907.0  2036.0  \n4  1903.0  1672.0  \n\n[5 rows x 22 columns]\nIndex(['Season', 'DayNum', 'WTeamID', 'WScore', 'LTeamID', 'LScore', 'WLoc',\n       'NumOT', 'WSection', 'WNumSeed', 'LSection', 'LNumSeed', 'WG', 'WWins',\n       'WLosses', 'WPts', 'WPA', 'LG', 'LWins', 'LLosses', 'LPts', 'LPA'],\n      dtype='object')\n"
    }
   ],
   "source": [
    "print('')\n",
    "print(master1985.head())\n",
    "print(master1985.columns)\n",
    "os.getcwd()\n",
    "master1985.to_csv(path_or_buf = '../GeneratedData/master1985.csv')"
   ]
  },
  {
   "cell_type": "code",
   "execution_count": 10,
   "metadata": {},
   "outputs": [],
   "source": [
    "class tourneyGame:\n",
    "    def __init__(self, evalFn, priorGameA = None, priorGameB = None, teamA = None, teamB = None):\n",
    "        self.evalFn = evalFn\n",
    "        self.priorGameA = priorGameA\n",
    "        self.priorGameB = priorGameB\n",
    "        self.teamA = teamA\n",
    "        self.teamB = teamB\n",
    "\n",
    "    def findWinner(self):\n",
    "        if self.teamA == None:\n",
    "            self.teamA = self.priorGameA.findWinner()\n",
    "        if self.teamB == None:\n",
    "            self.teamB = self.priorGameB.findWinner()\n",
    "        \n",
    "        self.winner = self.evalFn(self.teamA, self.teamB)\n",
    "\n",
    "        return self.winner\n",
    "\n",
    "class tourneyClass:\n",
    "    def __init__(self, evalFn):\n",
    "        self.net = []\n",
    "        for _ in range(32):\n",
    "            self.net.append(tourneyGame(evalFn))\n",
    "        count = 0\n",
    "        for i in [16, 8, 4, 2, 1]:\n",
    "            for _ in range(i):\n",
    "                self.net.append(tourneyGame(evalFn, priorGameA = self.net[count], priorGameB = self.net[count + 1]))\n",
    "                count += 2\n",
    "    \n",
    "    def simulate(self):\n",
    "        self.net[-1].findWinner()\n",
    "        return [x.winner for x in self.net]"
   ]
  },
  {
   "cell_type": "code",
   "execution_count": 56,
   "metadata": {},
   "outputs": [
    {
     "output_type": "execute_result",
     "data": {
      "text/plain": "{'evalFn': <function __main__.testfn(a, b)>,\n 'priorGameA': <__main__.tourneyGame at 0xa1ba01940>,\n 'priorGameB': <__main__.tourneyGame at 0xa1ba01908>,\n 'teamA': None,\n 'teamB': None}"
     },
     "metadata": {},
     "execution_count": 56
    }
   ],
   "source": [
    "jack = tourneyClass(testfn)"
   ]
  },
  {
   "cell_type": "code",
   "execution_count": 12,
   "metadata": {},
   "outputs": [],
   "source": [
    "def testfn(a, b):\n",
    "    return a + b"
   ]
  },
  {
   "cell_type": "code",
   "execution_count": 25,
   "metadata": {},
   "outputs": [
    {
     "output_type": "execute_result",
     "data": {
      "text/plain": "17"
     },
     "metadata": {},
     "execution_count": 25
    }
   ],
   "source": []
  },
  {
   "cell_type": "code",
   "execution_count": 29,
   "metadata": {},
   "outputs": [
    {
     "output_type": "execute_result",
     "data": {
      "text/plain": "7"
     },
     "metadata": {},
     "execution_count": 29
    }
   ],
   "source": [
    "jack = []\n",
    "jack.append(tourneyGame(evalFn = testfn, teamA = 5, teamB = 7))\n",
    "jack.append(tourneyGame(evalFn = testfn, priorGameA = jack[0], teamB = 9))\n",
    "jack.append(tourneyGame(evalFn = testfn, teamA = 3, teamB = 4))\n",
    "jack.append(tourneyGame(evalFn = testfn, priorGameA = jack[1], priorGameB = jack[2]))\n",
    "\n",
    "jack[3].findWinner()\n",
    "jack[2].winner"
   ]
  },
  {
   "cell_type": "code",
   "execution_count": 8,
   "metadata": {},
   "outputs": [],
   "source": [
    "seedResultsCompact = createSeedResults1985DF(seeds, tourneyCompactResults)\n",
    "master1985 = createSeedResultRegTotals1985DF(seedResultsCompact, regSeasCompactTotals)"
   ]
  },
  {
   "cell_type": "code",
   "execution_count": 10,
   "metadata": {},
   "outputs": [
    {
     "output_type": "stream",
     "name": "stdout",
     "text": "\n  Season  DayNum WTeamID  WScore  LTeamID  LScore WLoc  NumOT WSection  \\\n0   1985     136    1116      63     1234      54    N      0        X   \n1   1985     136    1120      59     1345      58    N      0        Z   \n2   1985     138    1120      66     1242      64    N      0        Z   \n3   1985     136    1207      68     1250      43    N      0        W   \n4   1985     138    1207      63     1396      46    N      0        W   \n\n   WNumSeed  ...    WG  WWins  WLosses    WPts     WPA    LG  LWins  LLosses  \\\n0       9.0  ...  33.0   21.0     12.0  2156.0  2036.0  30.0   20.0     10.0   \n1      11.0  ...  29.0   18.0     11.0  2040.0  1933.0  25.0   17.0      8.0   \n2      11.0  ...  29.0   18.0     11.0  2040.0  1933.0  30.0   23.0      7.0   \n3       1.0  ...  27.0   25.0      2.0  2045.0  1622.0  29.0   11.0     18.0   \n4       1.0  ...  27.0   25.0      2.0  2045.0  1622.0  29.0   24.0      5.0   \n\n     LPts     LPA  \n0  2092.0  1778.0  \n1  1728.0  1633.0  \n2  2281.0  2112.0  \n3  1907.0  2036.0  \n4  1903.0  1672.0  \n\n[5 rows x 22 columns]\n(63, 22)\nIndex(['Season', 'DayNum', 'WTeamID', 'WScore', 'LTeamID', 'LScore', 'WLoc',\n       'NumOT', 'WSection', 'WNumSeed', 'LSection', 'LNumSeed', 'WG', 'WWins',\n       'WLosses', 'WPts', 'WPA', 'LG', 'LWins', 'LLosses', 'LPts', 'LPA'],\n      dtype='object')\n"
    }
   ],
   "source": [
    "print('')\n",
    "print(master1985[0:5])\n",
    "print(master1985[master1985['Season'] == 1985].shape)\n",
    "print(master1985.columns)"
   ]
  },
  {
   "cell_type": "code",
   "execution_count": 16,
   "metadata": {},
   "outputs": [
    {
     "output_type": "error",
     "ename": "TypeError",
     "evalue": "slice indices must be integers or None or have an __index__ method",
     "traceback": [
      "\u001b[0;31m---------------------------------------------------------------------------\u001b[0m",
      "\u001b[0;31mTypeError\u001b[0m                                 Traceback (most recent call last)",
      "\u001b[0;32m<ipython-input-16-5d398b628310>\u001b[0m in \u001b[0;36m<module>\u001b[0;34m\u001b[0m\n\u001b[1;32m     19\u001b[0m     \u001b[0;32mreturn\u001b[0m \u001b[0mout\u001b[0m\u001b[0;34m\u001b[0m\u001b[0;34m\u001b[0m\u001b[0m\n\u001b[1;32m     20\u001b[0m \u001b[0;34m\u001b[0m\u001b[0m\n\u001b[0;32m---> 21\u001b[0;31m \u001b[0mgenerateGames\u001b[0m\u001b[0;34m(\u001b[0m\u001b[0;36m1\u001b[0m\u001b[0;34m)\u001b[0m\u001b[0;34m\u001b[0m\u001b[0;34m\u001b[0m\u001b[0m\n\u001b[0m",
      "\u001b[0;32m<ipython-input-16-5d398b628310>\u001b[0m in \u001b[0;36mgenerateGames\u001b[0;34m(round)\u001b[0m\n\u001b[1;32m     11\u001b[0m     \u001b[0;32mfor\u001b[0m \u001b[0mi\u001b[0m \u001b[0;32min\u001b[0m \u001b[0mrange\u001b[0m\u001b[0;34m(\u001b[0m\u001b[0;36m2\u001b[0m \u001b[0;34m**\u001b[0m \u001b[0mround\u001b[0m\u001b[0;34m)\u001b[0m\u001b[0;34m:\u001b[0m\u001b[0;34m\u001b[0m\u001b[0;34m\u001b[0m\u001b[0m\n\u001b[1;32m     12\u001b[0m         \u001b[0mgroupSize\u001b[0m \u001b[0;34m=\u001b[0m \u001b[0;34m(\u001b[0m\u001b[0;34m(\u001b[0m\u001b[0;36m2\u001b[0m \u001b[0;34m**\u001b[0m \u001b[0mround\u001b[0m\u001b[0;34m)\u001b[0m \u001b[0;34m/\u001b[0m \u001b[0;36m2\u001b[0m\u001b[0;34m)\u001b[0m\u001b[0;34m\u001b[0m\u001b[0;34m\u001b[0m\u001b[0m\n\u001b[0;32m---> 13\u001b[0;31m         \u001b[0mpivots\u001b[0m \u001b[0;34m=\u001b[0m \u001b[0mseedNums\u001b[0m\u001b[0;34m[\u001b[0m\u001b[0mcount\u001b[0m\u001b[0;34m:\u001b[0m\u001b[0;34m(\u001b[0m\u001b[0mcount\u001b[0m \u001b[0;34m+\u001b[0m \u001b[0mgroupSize\u001b[0m\u001b[0;34m)\u001b[0m\u001b[0;34m]\u001b[0m\u001b[0;34m\u001b[0m\u001b[0;34m\u001b[0m\u001b[0m\n\u001b[0m\u001b[1;32m     14\u001b[0m         \u001b[0mleaves\u001b[0m \u001b[0;34m=\u001b[0m \u001b[0mseedNums\u001b[0m\u001b[0;34m[\u001b[0m\u001b[0;34m(\u001b[0m\u001b[0mcount\u001b[0m \u001b[0;34m+\u001b[0m \u001b[0mgroupSize\u001b[0m \u001b[0;34m+\u001b[0m \u001b[0;36m1\u001b[0m\u001b[0;34m)\u001b[0m\u001b[0;34m:\u001b[0m\u001b[0;34m(\u001b[0m\u001b[0mcount\u001b[0m \u001b[0;34m+\u001b[0m \u001b[0mgroupSize\u001b[0m \u001b[0;34m+\u001b[0m \u001b[0;36m1\u001b[0m \u001b[0;34m+\u001b[0m \u001b[0mgroupSize\u001b[0m\u001b[0;34m)\u001b[0m\u001b[0;34m]\u001b[0m\u001b[0;34m\u001b[0m\u001b[0;34m\u001b[0m\u001b[0m\n\u001b[1;32m     15\u001b[0m         \u001b[0;32mfor\u001b[0m \u001b[0mj\u001b[0m \u001b[0;32min\u001b[0m \u001b[0mpivots\u001b[0m\u001b[0;34m:\u001b[0m\u001b[0;34m\u001b[0m\u001b[0;34m\u001b[0m\u001b[0m\n",
      "\u001b[0;31mTypeError\u001b[0m: slice indices must be integers or None or have an __index__ method"
     ]
    }
   ],
   "source": [
    "temp = ((1, 16), (8, 9), (5, 12), (4, 13), (6, 11), (3, 14), (7, 10), (2, 15))\n",
    "\n",
    "temp2 = ((1, 8), (1, 9), (16, 8), (16, 9), (5, 4), (5, 13), (12, 4), (12, 13))\n",
    "\n",
    "def generateGames(round):\n",
    "    seedNums = [1, 16, 8, 9, 5, 12, 4, 13, 6, 11, 3, 14, 7, 10, 2, 15]\n",
    "\n",
    "    out = []\n",
    "    \n",
    "    count = 0\n",
    "    for i in range(2 ** round):\n",
    "        groupSize = ((2 ** round) / 2)\n",
    "        pivots = seedNums[count:(count + groupSize)]\n",
    "        leaves = seedNums[(count + groupSize + 1):(count + groupSize + 1 + groupSize)]\n",
    "        for j in pivots:\n",
    "            for k in leaves:\n",
    "                out.append([j, k])\n",
    "    \n",
    "    return out\n",
    "\n",
    "generateGames(1)"
   ]
  },
  {
   "cell_type": "code",
   "execution_count": 14,
   "metadata": {},
   "outputs": [
    {
     "output_type": "execute_result",
     "data": {
      "text/plain": "()"
     },
     "metadata": {},
     "execution_count": 14
    }
   ],
   "source": [
    "jack = ((1, 2), (3, 4))\n",
    "2 ** 3\n",
    "jack[0:0]"
   ]
  },
  {
   "cell_type": "code",
   "execution_count": null,
   "metadata": {},
   "outputs": [],
   "source": [
    "nrow = seedResults.shape[0]\n",
    "seedResults['WExpected'] = seedResults.WTeamID\n",
    "\n",
    "start = time.time()\n",
    "\n",
    "for i in range(nrow):\n",
    "    if seedResults.loc[i, 'WNumSeed'] >= seedResults.loc[i, 'LNumSeed']:\n",
    "        seedResults.loc[i, 'WExpected'] = seedResults.loc[i, 'LTeamID']\n",
    "\n",
    "end = time.time()\n",
    "\n",
    "print(end - start)\n",
    "\n",
    "seedResults['correctGuess'] = seedResults.WExpected == seedResults.WTeamID"
   ]
  },
  {
   "cell_type": "code",
   "execution_count": null,
   "metadata": {},
   "outputs": [],
   "source": [
    "accuracy = seedResults.correctGuess.sum() / nrow\n",
    "print(\"Picking highest seed strategy accuracy: \", accuracy)"
   ]
  },
  {
   "cell_type": "code",
   "execution_count": 6,
   "metadata": {},
   "outputs": [
    {
     "output_type": "execute_result",
     "data": {
      "text/plain": "   Season  DayNum  WTeamID  WScore LTeamID  LScore WLoc  NumOT WSection  \\\n0    1985     136     1116      63    1234      54    N      0        X   \n1    1985     136     1120      59    1345      58    N      0        Z   \n2    1985     138     1120      66    1242      64    N      0        Z   \n3    1985     136     1207      68    1250      43    N      0        W   \n4    1985     138     1207      63    1396      46    N      0        W   \n\n   WNumSeed LSection  LNumSeed  \n0       9.0        X       8.0  \n1      11.0        Z       6.0  \n2      11.0        Z       3.0  \n3       1.0        W      16.0  \n4       1.0        W       8.0  ",
      "text/html": "<div>\n<style scoped>\n    .dataframe tbody tr th:only-of-type {\n        vertical-align: middle;\n    }\n\n    .dataframe tbody tr th {\n        vertical-align: top;\n    }\n\n    .dataframe thead th {\n        text-align: right;\n    }\n</style>\n<table border=\"1\" class=\"dataframe\">\n  <thead>\n    <tr style=\"text-align: right;\">\n      <th></th>\n      <th>Season</th>\n      <th>DayNum</th>\n      <th>WTeamID</th>\n      <th>WScore</th>\n      <th>LTeamID</th>\n      <th>LScore</th>\n      <th>WLoc</th>\n      <th>NumOT</th>\n      <th>WSection</th>\n      <th>WNumSeed</th>\n      <th>LSection</th>\n      <th>LNumSeed</th>\n    </tr>\n  </thead>\n  <tbody>\n    <tr>\n      <th>0</th>\n      <td>1985</td>\n      <td>136</td>\n      <td>1116</td>\n      <td>63</td>\n      <td>1234</td>\n      <td>54</td>\n      <td>N</td>\n      <td>0</td>\n      <td>X</td>\n      <td>9.0</td>\n      <td>X</td>\n      <td>8.0</td>\n    </tr>\n    <tr>\n      <th>1</th>\n      <td>1985</td>\n      <td>136</td>\n      <td>1120</td>\n      <td>59</td>\n      <td>1345</td>\n      <td>58</td>\n      <td>N</td>\n      <td>0</td>\n      <td>Z</td>\n      <td>11.0</td>\n      <td>Z</td>\n      <td>6.0</td>\n    </tr>\n    <tr>\n      <th>2</th>\n      <td>1985</td>\n      <td>138</td>\n      <td>1120</td>\n      <td>66</td>\n      <td>1242</td>\n      <td>64</td>\n      <td>N</td>\n      <td>0</td>\n      <td>Z</td>\n      <td>11.0</td>\n      <td>Z</td>\n      <td>3.0</td>\n    </tr>\n    <tr>\n      <th>3</th>\n      <td>1985</td>\n      <td>136</td>\n      <td>1207</td>\n      <td>68</td>\n      <td>1250</td>\n      <td>43</td>\n      <td>N</td>\n      <td>0</td>\n      <td>W</td>\n      <td>1.0</td>\n      <td>W</td>\n      <td>16.0</td>\n    </tr>\n    <tr>\n      <th>4</th>\n      <td>1985</td>\n      <td>138</td>\n      <td>1207</td>\n      <td>63</td>\n      <td>1396</td>\n      <td>46</td>\n      <td>N</td>\n      <td>0</td>\n      <td>W</td>\n      <td>1.0</td>\n      <td>W</td>\n      <td>8.0</td>\n    </tr>\n  </tbody>\n</table>\n</div>"
     },
     "metadata": {},
     "execution_count": 6
    }
   ],
   "source": [
    "seedResults.head()"
   ]
  },
  {
   "cell_type": "code",
   "execution_count": null,
   "metadata": {},
   "outputs": [],
   "source": [
    "def tourneyDriver(matchupsDF, referenceDF):\n",
    "    matchups = matchupsDF[:]\n",
    "    reference = referenceDF[:]"
   ]
  }
 ]
}