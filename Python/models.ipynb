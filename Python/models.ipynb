{
 "nbformat": 4,
 "nbformat_minor": 2,
 "metadata": {
  "language_info": {
   "name": "python",
   "codemirror_mode": {
    "name": "ipython",
    "version": 3
   },
   "version": "3.7.3-final"
  },
  "orig_nbformat": 2,
  "file_extension": ".py",
  "mimetype": "text/x-python",
  "name": "python",
  "npconvert_exporter": "python",
  "pygments_lexer": "ipython3",
  "version": 3,
  "kernelspec": {
   "name": "python37364bitanaconda3virtualenvbfa5aa89ad4a4a17a8c8a14bdb5884cf",
   "display_name": "Python 3.7.3 64-bit ('anaconda3': virtualenv)"
  }
 },
 "cells": [
  {
   "cell_type": "code",
   "execution_count": 7,
   "metadata": {},
   "outputs": [],
   "source": [
    "import numpy as np\n",
    "import pandas as pd\n",
    "import sklearn\n",
    "import time\n",
    "import os\n",
    "from data import *\n",
    "from models import *"
   ]
  },
  {
   "cell_type": "code",
   "execution_count": 8,
   "metadata": {},
   "outputs": [],
   "source": [
    "global master1985, matchups\n",
    "seedResultsCompact = createSeedResults1985DF(seeds, tourneyCompactResults)\n",
    "master1985 = createSeedResultRegTotals1985DF(seedResultsCompact, regSeasCompactTotals)\n",
    "matchups = [generateMatchups(1), generateMatchups(2), generateMatchups(3), generateMatchups(4)]"
   ]
  },
  {
   "cell_type": "code",
   "execution_count": 9,
   "metadata": {},
   "outputs": [
    {
     "output_type": "execute_result",
     "data": {
      "text/plain": "[[1, 16], [8, 9], [5, 12], [4, 13], [6, 11], [3, 14], [7, 10], [2, 15]]"
     },
     "metadata": {},
     "execution_count": 9
    }
   ],
   "source": [
    "matchups[0]"
   ]
  },
  {
   "cell_type": "code",
   "execution_count": 15,
   "metadata": {},
   "outputs": [
    {
     "output_type": "error",
     "ename": "KeyError",
     "evalue": "\"None of [Float64Index([ 4.0,  4.0,  4.0,  4.0,  4.0,  4.0,  5.0,  5.0,  5.0,  3.0, 12.0,\\n               9.0,  8.0,  6.0,  6.0,  1.0,  1.0,  1.0,  1.0,  1.0,  1.0,  1.0,\\n               1.0,  1.0,  1.0,  1.0,  8.0,  4.0,  4.0,  2.0,  2.0,  2.0,  4.0,\\n               7.0,  7.0, 14.0, 14.0,  4.0,  4.0, 15.0,  2.0,  6.0,  6.0,  6.0,\\n               6.0,  1.0,  1.0,  1.0,  1.0,  3.0, 10.0, 10.0, 10.0,  6.0,  6.0,\\n               9.0, 10.0, 10.0,  5.0,  2.0,  2.0,  2.0,  3.0],\\n             dtype='float64')] are in the [columns]\"",
     "traceback": [
      "\u001b[0;31m---------------------------------------------------------------------------\u001b[0m",
      "\u001b[0;31mKeyError\u001b[0m                                  Traceback (most recent call last)",
      "\u001b[0;32m<ipython-input-15-4f82d09a5063>\u001b[0m in \u001b[0;36m<module>\u001b[0;34m\u001b[0m\n\u001b[1;32m     63\u001b[0m \u001b[0;34m\u001b[0m\u001b[0m\n\u001b[1;32m     64\u001b[0m \u001b[0;34m\u001b[0m\u001b[0m\n\u001b[0;32m---> 65\u001b[0;31m \u001b[0mtourneySim\u001b[0m\u001b[0;34m(\u001b[0m\u001b[0;36m1997\u001b[0m\u001b[0;34m,\u001b[0m \u001b[0mtestfn\u001b[0m\u001b[0;34m)\u001b[0m\u001b[0;34m\u001b[0m\u001b[0;34m\u001b[0m\u001b[0m\n\u001b[0m",
      "\u001b[0;32m<ipython-input-15-4f82d09a5063>\u001b[0m in \u001b[0;36mtourneySim\u001b[0;34m(year, evalFn, detailed)\u001b[0m\n\u001b[1;32m     11\u001b[0m     \u001b[0mtourney\u001b[0m \u001b[0;34m=\u001b[0m \u001b[0mtourneyClass\u001b[0m\u001b[0;34m\u001b[0m\u001b[0;34m\u001b[0m\u001b[0m\n\u001b[1;32m     12\u001b[0m \u001b[0;34m\u001b[0m\u001b[0m\n\u001b[0;32m---> 13\u001b[0;31m     \u001b[0mplayInGames\u001b[0m \u001b[0;34m=\u001b[0m \u001b[0mmasterTemp\u001b[0m\u001b[0;34m[\u001b[0m\u001b[0;34m(\u001b[0m\u001b[0mmasterTemp\u001b[0m\u001b[0;34m[\u001b[0m\u001b[0;34m'WNumSeed'\u001b[0m\u001b[0;34m]\u001b[0m \u001b[0;34m!=\u001b[0m \u001b[0mround\u001b[0m\u001b[0;34m(\u001b[0m\u001b[0mmasterTemp\u001b[0m\u001b[0;34m[\u001b[0m\u001b[0mmasterTemp\u001b[0m\u001b[0;34m[\u001b[0m\u001b[0;34m'WNumSeed'\u001b[0m\u001b[0;34m]\u001b[0m\u001b[0;34m]\u001b[0m\u001b[0;34m)\u001b[0m\u001b[0;34m)\u001b[0m \u001b[0;32mand\u001b[0m \u001b[0;34m(\u001b[0m\u001b[0mmasterTemp\u001b[0m\u001b[0;34m[\u001b[0m\u001b[0;34m'LNumSeed'\u001b[0m\u001b[0;34m]\u001b[0m \u001b[0;34m!=\u001b[0m \u001b[0mround\u001b[0m\u001b[0;34m(\u001b[0m\u001b[0mmasterTemp\u001b[0m\u001b[0;34m[\u001b[0m\u001b[0mmasterTemp\u001b[0m\u001b[0;34m[\u001b[0m\u001b[0;34m'LNumSeed'\u001b[0m\u001b[0;34m]\u001b[0m\u001b[0;34m]\u001b[0m\u001b[0;34m)\u001b[0m\u001b[0;34m)\u001b[0m\u001b[0;34m]\u001b[0m\u001b[0;34m\u001b[0m\u001b[0;34m\u001b[0m\u001b[0m\n\u001b[0m\u001b[1;32m     14\u001b[0m     \u001b[0mnonPlayInGames\u001b[0m \u001b[0;34m=\u001b[0m \u001b[0mmasterTemp\u001b[0m\u001b[0;34m[\u001b[0m\u001b[0;34m(\u001b[0m\u001b[0mmasterTemp\u001b[0m\u001b[0;34m[\u001b[0m\u001b[0;34m'WNumSeed'\u001b[0m\u001b[0;34m]\u001b[0m \u001b[0;34m==\u001b[0m \u001b[0mround\u001b[0m\u001b[0;34m(\u001b[0m\u001b[0mmasterTemp\u001b[0m\u001b[0;34m[\u001b[0m\u001b[0mmasterTemp\u001b[0m\u001b[0;34m[\u001b[0m\u001b[0;34m'WNumSeed'\u001b[0m\u001b[0;34m]\u001b[0m\u001b[0;34m]\u001b[0m\u001b[0;34m)\u001b[0m\u001b[0;34m)\u001b[0m \u001b[0;32mor\u001b[0m \u001b[0;34m(\u001b[0m\u001b[0mmasterTemp\u001b[0m\u001b[0;34m[\u001b[0m\u001b[0;34m'LNumSeed'\u001b[0m\u001b[0;34m]\u001b[0m \u001b[0;34m==\u001b[0m \u001b[0mround\u001b[0m\u001b[0;34m(\u001b[0m\u001b[0mmasterTemp\u001b[0m\u001b[0;34m[\u001b[0m\u001b[0mmasterTemp\u001b[0m\u001b[0;34m[\u001b[0m\u001b[0;34m'LNumSeed'\u001b[0m\u001b[0;34m]\u001b[0m\u001b[0;34m]\u001b[0m\u001b[0;34m)\u001b[0m\u001b[0;34m)\u001b[0m\u001b[0;34m]\u001b[0m\u001b[0;34m\u001b[0m\u001b[0;34m\u001b[0m\u001b[0m\n\u001b[1;32m     15\u001b[0m \u001b[0;34m\u001b[0m\u001b[0m\n",
      "\u001b[0;32m~/anaconda3/lib/python3.7/site-packages/pandas/core/frame.py\u001b[0m in \u001b[0;36m__getitem__\u001b[0;34m(self, key)\u001b[0m\n\u001b[1;32m   2932\u001b[0m                 \u001b[0mkey\u001b[0m \u001b[0;34m=\u001b[0m \u001b[0mlist\u001b[0m\u001b[0;34m(\u001b[0m\u001b[0mkey\u001b[0m\u001b[0;34m)\u001b[0m\u001b[0;34m\u001b[0m\u001b[0;34m\u001b[0m\u001b[0m\n\u001b[1;32m   2933\u001b[0m             indexer = self.loc._convert_to_indexer(key, axis=1,\n\u001b[0;32m-> 2934\u001b[0;31m                                                    raise_missing=True)\n\u001b[0m\u001b[1;32m   2935\u001b[0m \u001b[0;34m\u001b[0m\u001b[0m\n\u001b[1;32m   2936\u001b[0m         \u001b[0;31m# take() does not accept boolean indexers\u001b[0m\u001b[0;34m\u001b[0m\u001b[0;34m\u001b[0m\u001b[0;34m\u001b[0m\u001b[0m\n",
      "\u001b[0;32m~/anaconda3/lib/python3.7/site-packages/pandas/core/indexing.py\u001b[0m in \u001b[0;36m_convert_to_indexer\u001b[0;34m(self, obj, axis, is_setter, raise_missing)\u001b[0m\n\u001b[1;32m   1352\u001b[0m                 kwargs = {'raise_missing': True if is_setter else\n\u001b[1;32m   1353\u001b[0m                           raise_missing}\n\u001b[0;32m-> 1354\u001b[0;31m                 \u001b[0;32mreturn\u001b[0m \u001b[0mself\u001b[0m\u001b[0;34m.\u001b[0m\u001b[0m_get_listlike_indexer\u001b[0m\u001b[0;34m(\u001b[0m\u001b[0mobj\u001b[0m\u001b[0;34m,\u001b[0m \u001b[0maxis\u001b[0m\u001b[0;34m,\u001b[0m \u001b[0;34m**\u001b[0m\u001b[0mkwargs\u001b[0m\u001b[0;34m)\u001b[0m\u001b[0;34m[\u001b[0m\u001b[0;36m1\u001b[0m\u001b[0;34m]\u001b[0m\u001b[0;34m\u001b[0m\u001b[0;34m\u001b[0m\u001b[0m\n\u001b[0m\u001b[1;32m   1355\u001b[0m         \u001b[0;32melse\u001b[0m\u001b[0;34m:\u001b[0m\u001b[0;34m\u001b[0m\u001b[0;34m\u001b[0m\u001b[0m\n\u001b[1;32m   1356\u001b[0m             \u001b[0;32mtry\u001b[0m\u001b[0;34m:\u001b[0m\u001b[0;34m\u001b[0m\u001b[0;34m\u001b[0m\u001b[0m\n",
      "\u001b[0;32m~/anaconda3/lib/python3.7/site-packages/pandas/core/indexing.py\u001b[0m in \u001b[0;36m_get_listlike_indexer\u001b[0;34m(self, key, axis, raise_missing)\u001b[0m\n\u001b[1;32m   1159\u001b[0m         self._validate_read_indexer(keyarr, indexer,\n\u001b[1;32m   1160\u001b[0m                                     \u001b[0mo\u001b[0m\u001b[0;34m.\u001b[0m\u001b[0m_get_axis_number\u001b[0m\u001b[0;34m(\u001b[0m\u001b[0maxis\u001b[0m\u001b[0;34m)\u001b[0m\u001b[0;34m,\u001b[0m\u001b[0;34m\u001b[0m\u001b[0;34m\u001b[0m\u001b[0m\n\u001b[0;32m-> 1161\u001b[0;31m                                     raise_missing=raise_missing)\n\u001b[0m\u001b[1;32m   1162\u001b[0m         \u001b[0;32mreturn\u001b[0m \u001b[0mkeyarr\u001b[0m\u001b[0;34m,\u001b[0m \u001b[0mindexer\u001b[0m\u001b[0;34m\u001b[0m\u001b[0;34m\u001b[0m\u001b[0m\n\u001b[1;32m   1163\u001b[0m \u001b[0;34m\u001b[0m\u001b[0m\n",
      "\u001b[0;32m~/anaconda3/lib/python3.7/site-packages/pandas/core/indexing.py\u001b[0m in \u001b[0;36m_validate_read_indexer\u001b[0;34m(self, key, indexer, axis, raise_missing)\u001b[0m\n\u001b[1;32m   1244\u001b[0m                 raise KeyError(\n\u001b[1;32m   1245\u001b[0m                     u\"None of [{key}] are in the [{axis}]\".format(\n\u001b[0;32m-> 1246\u001b[0;31m                         key=key, axis=self.obj._get_axis_name(axis)))\n\u001b[0m\u001b[1;32m   1247\u001b[0m \u001b[0;34m\u001b[0m\u001b[0m\n\u001b[1;32m   1248\u001b[0m             \u001b[0;31m# We (temporarily) allow for some missing keys with .loc, except in\u001b[0m\u001b[0;34m\u001b[0m\u001b[0;34m\u001b[0m\u001b[0;34m\u001b[0m\u001b[0m\n",
      "\u001b[0;31mKeyError\u001b[0m: \"None of [Float64Index([ 4.0,  4.0,  4.0,  4.0,  4.0,  4.0,  5.0,  5.0,  5.0,  3.0, 12.0,\\n               9.0,  8.0,  6.0,  6.0,  1.0,  1.0,  1.0,  1.0,  1.0,  1.0,  1.0,\\n               1.0,  1.0,  1.0,  1.0,  8.0,  4.0,  4.0,  2.0,  2.0,  2.0,  4.0,\\n               7.0,  7.0, 14.0, 14.0,  4.0,  4.0, 15.0,  2.0,  6.0,  6.0,  6.0,\\n               6.0,  1.0,  1.0,  1.0,  1.0,  3.0, 10.0, 10.0, 10.0,  6.0,  6.0,\\n               9.0, 10.0, 10.0,  5.0,  2.0,  2.0,  2.0,  3.0],\\n             dtype='float64')] are in the [columns]\""
     ]
    }
   ],
   "source": [
    "def tourneySim(year, evalFn, detailed = False):\n",
    "    #note that this implementation relies on matchups and the ref dataframe being global (i.e. accesible by the function without being explicitly passed)\n",
    "    #should add in ability to manually enter team id's for a given season (what if scenarios)?\n",
    "    if detailed == True:\n",
    "        masterTemp = master2003[:]\n",
    "    elif detailed == False:\n",
    "        masterTemp = master1985[:]\n",
    "\n",
    "    masterTemp = masterTemp[masterTemp['Season'] == year]\n",
    "    \n",
    "    tourney = tourneyClass\n",
    "\n",
    "    playInGames = masterTemp[(masterTemp['WNumSeed'] != round(masterTemp[masterTemp['WNumSeed']])) and (masterTemp['LNumSeed'] != round(masterTemp[masterTemp['LNumSeed']]))]\n",
    "    nonPlayInGames = masterTemp[(masterTemp['WNumSeed'] == round(masterTemp[masterTemp['WNumSeed']])) or (masterTemp['LNumSeed'] == round(masterTemp[masterTemp['LNumSeed']]))]\n",
    "\n",
    "    for i in range(playInGames.shape[0]):\n",
    "        if playInGames.loc[i, 'WSection'] == 'W':\n",
    "            count = 0\n",
    "        elif playInGames.loc[i, 'WSection'] == 'X':\n",
    "            count = 8\n",
    "        elif playInGames.loc[i, 'WSection'] == 'Y':\n",
    "            count = 16\n",
    "        elif playInGames.loc[i, 'WSection'] == 'Y':\n",
    "            count = 24\n",
    "        \n",
    "        for j in range(len(matchups[0])):\n",
    "            if int(playInGames.loc[i, 'WNumSeed']) == matchups[0][j][0]:\n",
    "                tourney.net[count].priorGameA = tourneyGame(evalFn, teamA = playInGames.loc[i, 'WTeamID'], teamB = playInGames.loc[i, 'LTeamID'])\n",
    "                break\n",
    "            if int(playInGames.loc[i, 'WNumSeed']) == matchups[0][j][1]:\n",
    "                tourney.net[count].priorGameB = tourneyGame(evalFn, teamA = playInGames.loc[i, 'WTeamID'], teamB = playInGames.loc[i, 'LTeamID'])\n",
    "                break\n",
    "            count += 1\n",
    "\n",
    "    for i in range(nonPlayInGames.shape[0]):\n",
    "        if nonPlayInGames.loc[i, 'WSection'] == 'W':\n",
    "            count = 0\n",
    "        elif nonPlayInGames.loc[i, 'WSection'] == 'X':\n",
    "            count = 8\n",
    "        elif nonPlayInGames.loc[i, 'WSection'] == 'Y':\n",
    "            count = 16\n",
    "        elif nonPlayInGames.loc[i, 'WSection'] == 'Y':\n",
    "            count = 24\n",
    "        firstRoundTestVar = list(int(nonPlayInGames.loc[i, 'WNumSeed']), int(nonPlayInGames.loc[i, 'WNumSeed']))\n",
    "\n",
    "        for j in range(len(matchups[0])):\n",
    "            if matchups[0][j] == firstRoundTestVar or list(reversed(matchups[0][j])) == firstRoundTestVar:\n",
    "                winnerHigherRankBool = nonPlayInGames.loc[i, 'WNumSeed'] > nonPlayInGames.loc[i, 'LNumSeed']\n",
    "                if winnerHigherRankBool:\n",
    "                    tourney.net[count].teamA = nonPlayInGames.loc[i, 'WTeamID']\n",
    "                    tourney.net[count].teamB = nonPlayInGames.loc[i, 'LTeamID']\n",
    "                else:\n",
    "                    tourney.net[count].teamB = nonPlayInGames.loc[i, 'WTeamID']\n",
    "                    tourney.net[count].teamA = nonPlayInGames.loc[i, 'LTeamID']\n",
    "            \n",
    "\n",
    "\n",
    "            \n",
    "\n",
    "\n",
    "\n",
    "        \n",
    "        \n",
    "\n",
    "tourneySim(1997, testfn)"
   ]
  },
  {
   "cell_type": "code",
   "execution_count": 70,
   "metadata": {},
   "outputs": [
    {
     "output_type": "stream",
     "name": "stdout",
     "text": "<list_reverseiterator object at 0xa188b2390>\n"
    }
   ],
   "source": [
    "jack = [[1, 2], 3, [4, 5], [6, 7, 8]]\n",
    "\n",
    "\n",
    "\"\"\"\n",
    "        winWBool = nonPlayInGames.loc[i, 'WSection'] == 'W'\n",
    "        winXBool = nonPlayInGames.loc[i, 'WSection'] == 'X'\n",
    "        loseWBool = nonPlayInGames.loc[i, 'LSection'] == 'W'\n",
    "        loseXBool = nonPlayInGames.loc[i, 'LSection'] == 'X'\n",
    "        winYBool = nonPlayInGames.loc[i, 'WSection'] == 'Y'\n",
    "        winZBool = nonPlayInGames.loc[i, 'WSection'] == 'Z'\n",
    "        loseYBool = nonPlayInGames.loc[i, 'LSection'] == 'Y'\n",
    "        loseZBool = nonPlayInGames.loc[i, 'LSection'] == 'Z'\n",
    "        if (winWBool and loseXBool) or (winXBool and loseWBool):\n",
    "\"\"\"\n",
    "\n",
    "print(reversed(jack))"
   ]
  },
  {
   "cell_type": "code",
   "execution_count": 62,
   "metadata": {},
   "outputs": [
    {
     "output_type": "stream",
     "name": "stdout",
     "text": "\n  Season  DayNum WTeamID  WScore  LTeamID  LScore WLoc  NumOT WSection  \\\n0   1985     136    1116      63     1234      54    N      0        X   \n1   1985     136    1120      59     1345      58    N      0        Z   \n2   1985     138    1120      66     1242      64    N      0        Z   \n3   1985     136    1207      68     1250      43    N      0        W   \n4   1985     138    1207      63     1396      46    N      0        W   \n\n   WNumSeed  ...    WG  WWins  WLosses    WPts     WPA    LG  LWins  LLosses  \\\n0       9.0  ...  33.0   21.0     12.0  2156.0  2036.0  30.0   20.0     10.0   \n1      11.0  ...  29.0   18.0     11.0  2040.0  1933.0  25.0   17.0      8.0   \n2      11.0  ...  29.0   18.0     11.0  2040.0  1933.0  30.0   23.0      7.0   \n3       1.0  ...  27.0   25.0      2.0  2045.0  1622.0  29.0   11.0     18.0   \n4       1.0  ...  27.0   25.0      2.0  2045.0  1622.0  29.0   24.0      5.0   \n\n     LPts     LPA  \n0  2092.0  1778.0  \n1  1728.0  1633.0  \n2  2281.0  2112.0  \n3  1907.0  2036.0  \n4  1903.0  1672.0  \n\n[5 rows x 22 columns]\nIndex(['Season', 'DayNum', 'WTeamID', 'WScore', 'LTeamID', 'LScore', 'WLoc',\n       'NumOT', 'WSection', 'WNumSeed', 'LSection', 'LNumSeed', 'WG', 'WWins',\n       'WLosses', 'WPts', 'WPA', 'LG', 'LWins', 'LLosses', 'LPts', 'LPA'],\n      dtype='object')\n"
    }
   ],
   "source": [
    "print('')\n",
    "print(master1985.head())\n",
    "print(master1985.columns)\n",
    "os.getcwd()\n",
    "master1985.to_csv(path_or_buf = '../GeneratedData/master1985.csv')"
   ]
  },
  {
   "cell_type": "code",
   "execution_count": 10,
   "metadata": {},
   "outputs": [],
   "source": [
    "class tourneyGame:\n",
    "    def __init__(self, evalFn, priorGameA = None, priorGameB = None, teamA = None, teamB = None):\n",
    "        self.evalFn = evalFn\n",
    "        self.priorGameA = priorGameA\n",
    "        self.priorGameB = priorGameB\n",
    "        self.teamA = teamA\n",
    "        self.teamB = teamB\n",
    "\n",
    "    def findWinner(self):\n",
    "        if self.teamA == None:\n",
    "            self.teamA = self.priorGameA.findWinner()\n",
    "        if self.teamB == None:\n",
    "            self.teamB = self.priorGameB.findWinner()\n",
    "        \n",
    "        self.winner = self.evalFn(self.teamA, self.teamB)\n",
    "\n",
    "        return self.winner\n",
    "\n",
    "class tourneyClass:\n",
    "    def __init__(self, evalFn):\n",
    "        self.net = []\n",
    "        for _ in range(32):\n",
    "            self.net.append(tourneyGame(evalFn))\n",
    "        count = 0\n",
    "        for i in [16, 8, 4, 2, 1]:\n",
    "            for _ in range(i):\n",
    "                self.net.append(tourneyGame(evalFn, priorGameA = self.net[count], priorGameB = self.net[count + 1]))\n",
    "                count += 2\n",
    "    \n",
    "    def simulate(self):\n",
    "        self.net[-1].findWinner()\n",
    "        return [x.winner for x in self.net]"
   ]
  },
  {
   "cell_type": "code",
   "execution_count": 56,
   "metadata": {},
   "outputs": [
    {
     "output_type": "execute_result",
     "data": {
      "text/plain": "{'evalFn': <function __main__.testfn(a, b)>,\n 'priorGameA': <__main__.tourneyGame at 0xa1ba01940>,\n 'priorGameB': <__main__.tourneyGame at 0xa1ba01908>,\n 'teamA': None,\n 'teamB': None}"
     },
     "metadata": {},
     "execution_count": 56
    }
   ],
   "source": [
    "jack = tourneyClass(testfn)"
   ]
  },
  {
   "cell_type": "code",
   "execution_count": 12,
   "metadata": {},
   "outputs": [],
   "source": [
    "def testfn(a, b):\n",
    "    return a + b"
   ]
  },
  {
   "cell_type": "code",
   "execution_count": 25,
   "metadata": {},
   "outputs": [
    {
     "output_type": "execute_result",
     "data": {
      "text/plain": "17"
     },
     "metadata": {},
     "execution_count": 25
    }
   ],
   "source": []
  },
  {
   "cell_type": "code",
   "execution_count": 29,
   "metadata": {},
   "outputs": [
    {
     "output_type": "execute_result",
     "data": {
      "text/plain": "7"
     },
     "metadata": {},
     "execution_count": 29
    }
   ],
   "source": [
    "jack = []\n",
    "jack.append(tourneyGame(evalFn = testfn, teamA = 5, teamB = 7))\n",
    "jack.append(tourneyGame(evalFn = testfn, priorGameA = jack[0], teamB = 9))\n",
    "jack.append(tourneyGame(evalFn = testfn, teamA = 3, teamB = 4))\n",
    "jack.append(tourneyGame(evalFn = testfn, priorGameA = jack[1], priorGameB = jack[2]))\n",
    "\n",
    "jack[3].findWinner()\n",
    "jack[2].winner"
   ]
  },
  {
   "cell_type": "code",
   "execution_count": 8,
   "metadata": {},
   "outputs": [],
   "source": [
    "seedResultsCompact = createSeedResults1985DF(seeds, tourneyCompactResults)\n",
    "master1985 = createSeedResultRegTotals1985DF(seedResultsCompact, regSeasCompactTotals)"
   ]
  },
  {
   "cell_type": "code",
   "execution_count": 10,
   "metadata": {},
   "outputs": [
    {
     "output_type": "stream",
     "name": "stdout",
     "text": "\n  Season  DayNum WTeamID  WScore  LTeamID  LScore WLoc  NumOT WSection  \\\n0   1985     136    1116      63     1234      54    N      0        X   \n1   1985     136    1120      59     1345      58    N      0        Z   \n2   1985     138    1120      66     1242      64    N      0        Z   \n3   1985     136    1207      68     1250      43    N      0        W   \n4   1985     138    1207      63     1396      46    N      0        W   \n\n   WNumSeed  ...    WG  WWins  WLosses    WPts     WPA    LG  LWins  LLosses  \\\n0       9.0  ...  33.0   21.0     12.0  2156.0  2036.0  30.0   20.0     10.0   \n1      11.0  ...  29.0   18.0     11.0  2040.0  1933.0  25.0   17.0      8.0   \n2      11.0  ...  29.0   18.0     11.0  2040.0  1933.0  30.0   23.0      7.0   \n3       1.0  ...  27.0   25.0      2.0  2045.0  1622.0  29.0   11.0     18.0   \n4       1.0  ...  27.0   25.0      2.0  2045.0  1622.0  29.0   24.0      5.0   \n\n     LPts     LPA  \n0  2092.0  1778.0  \n1  1728.0  1633.0  \n2  2281.0  2112.0  \n3  1907.0  2036.0  \n4  1903.0  1672.0  \n\n[5 rows x 22 columns]\n(63, 22)\nIndex(['Season', 'DayNum', 'WTeamID', 'WScore', 'LTeamID', 'LScore', 'WLoc',\n       'NumOT', 'WSection', 'WNumSeed', 'LSection', 'LNumSeed', 'WG', 'WWins',\n       'WLosses', 'WPts', 'WPA', 'LG', 'LWins', 'LLosses', 'LPts', 'LPA'],\n      dtype='object')\n"
    }
   ],
   "source": [
    "print('')\n",
    "print(master1985[0:5])\n",
    "print(master1985[master1985['Season'] == 1985].shape)\n",
    "print(master1985.columns)"
   ]
  },
  {
   "cell_type": "code",
   "execution_count": 16,
   "metadata": {},
   "outputs": [
    {
     "output_type": "error",
     "ename": "TypeError",
     "evalue": "slice indices must be integers or None or have an __index__ method",
     "traceback": [
      "\u001b[0;31m---------------------------------------------------------------------------\u001b[0m",
      "\u001b[0;31mTypeError\u001b[0m                                 Traceback (most recent call last)",
      "\u001b[0;32m<ipython-input-16-5d398b628310>\u001b[0m in \u001b[0;36m<module>\u001b[0;34m\u001b[0m\n\u001b[1;32m     19\u001b[0m     \u001b[0;32mreturn\u001b[0m \u001b[0mout\u001b[0m\u001b[0;34m\u001b[0m\u001b[0;34m\u001b[0m\u001b[0m\n\u001b[1;32m     20\u001b[0m \u001b[0;34m\u001b[0m\u001b[0m\n\u001b[0;32m---> 21\u001b[0;31m \u001b[0mgenerateGames\u001b[0m\u001b[0;34m(\u001b[0m\u001b[0;36m1\u001b[0m\u001b[0;34m)\u001b[0m\u001b[0;34m\u001b[0m\u001b[0;34m\u001b[0m\u001b[0m\n\u001b[0m",
      "\u001b[0;32m<ipython-input-16-5d398b628310>\u001b[0m in \u001b[0;36mgenerateGames\u001b[0;34m(round)\u001b[0m\n\u001b[1;32m     11\u001b[0m     \u001b[0;32mfor\u001b[0m \u001b[0mi\u001b[0m \u001b[0;32min\u001b[0m \u001b[0mrange\u001b[0m\u001b[0;34m(\u001b[0m\u001b[0;36m2\u001b[0m \u001b[0;34m**\u001b[0m \u001b[0mround\u001b[0m\u001b[0;34m)\u001b[0m\u001b[0;34m:\u001b[0m\u001b[0;34m\u001b[0m\u001b[0;34m\u001b[0m\u001b[0m\n\u001b[1;32m     12\u001b[0m         \u001b[0mgroupSize\u001b[0m \u001b[0;34m=\u001b[0m \u001b[0;34m(\u001b[0m\u001b[0;34m(\u001b[0m\u001b[0;36m2\u001b[0m \u001b[0;34m**\u001b[0m \u001b[0mround\u001b[0m\u001b[0;34m)\u001b[0m \u001b[0;34m/\u001b[0m \u001b[0;36m2\u001b[0m\u001b[0;34m)\u001b[0m\u001b[0;34m\u001b[0m\u001b[0;34m\u001b[0m\u001b[0m\n\u001b[0;32m---> 13\u001b[0;31m         \u001b[0mpivots\u001b[0m \u001b[0;34m=\u001b[0m \u001b[0mseedNums\u001b[0m\u001b[0;34m[\u001b[0m\u001b[0mcount\u001b[0m\u001b[0;34m:\u001b[0m\u001b[0;34m(\u001b[0m\u001b[0mcount\u001b[0m \u001b[0;34m+\u001b[0m \u001b[0mgroupSize\u001b[0m\u001b[0;34m)\u001b[0m\u001b[0;34m]\u001b[0m\u001b[0;34m\u001b[0m\u001b[0;34m\u001b[0m\u001b[0m\n\u001b[0m\u001b[1;32m     14\u001b[0m         \u001b[0mleaves\u001b[0m \u001b[0;34m=\u001b[0m \u001b[0mseedNums\u001b[0m\u001b[0;34m[\u001b[0m\u001b[0;34m(\u001b[0m\u001b[0mcount\u001b[0m \u001b[0;34m+\u001b[0m \u001b[0mgroupSize\u001b[0m \u001b[0;34m+\u001b[0m \u001b[0;36m1\u001b[0m\u001b[0;34m)\u001b[0m\u001b[0;34m:\u001b[0m\u001b[0;34m(\u001b[0m\u001b[0mcount\u001b[0m \u001b[0;34m+\u001b[0m \u001b[0mgroupSize\u001b[0m \u001b[0;34m+\u001b[0m \u001b[0;36m1\u001b[0m \u001b[0;34m+\u001b[0m \u001b[0mgroupSize\u001b[0m\u001b[0;34m)\u001b[0m\u001b[0;34m]\u001b[0m\u001b[0;34m\u001b[0m\u001b[0;34m\u001b[0m\u001b[0m\n\u001b[1;32m     15\u001b[0m         \u001b[0;32mfor\u001b[0m \u001b[0mj\u001b[0m \u001b[0;32min\u001b[0m \u001b[0mpivots\u001b[0m\u001b[0;34m:\u001b[0m\u001b[0;34m\u001b[0m\u001b[0;34m\u001b[0m\u001b[0m\n",
      "\u001b[0;31mTypeError\u001b[0m: slice indices must be integers or None or have an __index__ method"
     ]
    }
   ],
   "source": [
    "temp = ((1, 16), (8, 9), (5, 12), (4, 13), (6, 11), (3, 14), (7, 10), (2, 15))\n",
    "\n",
    "temp2 = ((1, 8), (1, 9), (16, 8), (16, 9), (5, 4), (5, 13), (12, 4), (12, 13))\n",
    "\n",
    "def generateGames(round):\n",
    "    seedNums = [1, 16, 8, 9, 5, 12, 4, 13, 6, 11, 3, 14, 7, 10, 2, 15]\n",
    "\n",
    "    out = []\n",
    "    \n",
    "    count = 0\n",
    "    for i in range(2 ** round):\n",
    "        groupSize = ((2 ** round) / 2)\n",
    "        pivots = seedNums[count:(count + groupSize)]\n",
    "        leaves = seedNums[(count + groupSize + 1):(count + groupSize + 1 + groupSize)]\n",
    "        for j in pivots:\n",
    "            for k in leaves:\n",
    "                out.append([j, k])\n",
    "    \n",
    "    return out\n",
    "\n",
    "generateGames(1)"
   ]
  },
  {
   "cell_type": "code",
   "execution_count": 14,
   "metadata": {},
   "outputs": [
    {
     "output_type": "execute_result",
     "data": {
      "text/plain": "()"
     },
     "metadata": {},
     "execution_count": 14
    }
   ],
   "source": [
    "jack = ((1, 2), (3, 4))\n",
    "2 ** 3\n",
    "jack[0:0]"
   ]
  },
  {
   "cell_type": "code",
   "execution_count": null,
   "metadata": {},
   "outputs": [],
   "source": [
    "nrow = seedResults.shape[0]\n",
    "seedResults['WExpected'] = seedResults.WTeamID\n",
    "\n",
    "start = time.time()\n",
    "\n",
    "for i in range(nrow):\n",
    "    if seedResults.loc[i, 'WNumSeed'] >= seedResults.loc[i, 'LNumSeed']:\n",
    "        seedResults.loc[i, 'WExpected'] = seedResults.loc[i, 'LTeamID']\n",
    "\n",
    "end = time.time()\n",
    "\n",
    "print(end - start)\n",
    "\n",
    "seedResults['correctGuess'] = seedResults.WExpected == seedResults.WTeamID"
   ]
  },
  {
   "cell_type": "code",
   "execution_count": null,
   "metadata": {},
   "outputs": [],
   "source": [
    "accuracy = seedResults.correctGuess.sum() / nrow\n",
    "print(\"Picking highest seed strategy accuracy: \", accuracy)"
   ]
  },
  {
   "cell_type": "code",
   "execution_count": 6,
   "metadata": {},
   "outputs": [
    {
     "output_type": "execute_result",
     "data": {
      "text/plain": "   Season  DayNum  WTeamID  WScore LTeamID  LScore WLoc  NumOT WSection  \\\n0    1985     136     1116      63    1234      54    N      0        X   \n1    1985     136     1120      59    1345      58    N      0        Z   \n2    1985     138     1120      66    1242      64    N      0        Z   \n3    1985     136     1207      68    1250      43    N      0        W   \n4    1985     138     1207      63    1396      46    N      0        W   \n\n   WNumSeed LSection  LNumSeed  \n0       9.0        X       8.0  \n1      11.0        Z       6.0  \n2      11.0        Z       3.0  \n3       1.0        W      16.0  \n4       1.0        W       8.0  ",
      "text/html": "<div>\n<style scoped>\n    .dataframe tbody tr th:only-of-type {\n        vertical-align: middle;\n    }\n\n    .dataframe tbody tr th {\n        vertical-align: top;\n    }\n\n    .dataframe thead th {\n        text-align: right;\n    }\n</style>\n<table border=\"1\" class=\"dataframe\">\n  <thead>\n    <tr style=\"text-align: right;\">\n      <th></th>\n      <th>Season</th>\n      <th>DayNum</th>\n      <th>WTeamID</th>\n      <th>WScore</th>\n      <th>LTeamID</th>\n      <th>LScore</th>\n      <th>WLoc</th>\n      <th>NumOT</th>\n      <th>WSection</th>\n      <th>WNumSeed</th>\n      <th>LSection</th>\n      <th>LNumSeed</th>\n    </tr>\n  </thead>\n  <tbody>\n    <tr>\n      <th>0</th>\n      <td>1985</td>\n      <td>136</td>\n      <td>1116</td>\n      <td>63</td>\n      <td>1234</td>\n      <td>54</td>\n      <td>N</td>\n      <td>0</td>\n      <td>X</td>\n      <td>9.0</td>\n      <td>X</td>\n      <td>8.0</td>\n    </tr>\n    <tr>\n      <th>1</th>\n      <td>1985</td>\n      <td>136</td>\n      <td>1120</td>\n      <td>59</td>\n      <td>1345</td>\n      <td>58</td>\n      <td>N</td>\n      <td>0</td>\n      <td>Z</td>\n      <td>11.0</td>\n      <td>Z</td>\n      <td>6.0</td>\n    </tr>\n    <tr>\n      <th>2</th>\n      <td>1985</td>\n      <td>138</td>\n      <td>1120</td>\n      <td>66</td>\n      <td>1242</td>\n      <td>64</td>\n      <td>N</td>\n      <td>0</td>\n      <td>Z</td>\n      <td>11.0</td>\n      <td>Z</td>\n      <td>3.0</td>\n    </tr>\n    <tr>\n      <th>3</th>\n      <td>1985</td>\n      <td>136</td>\n      <td>1207</td>\n      <td>68</td>\n      <td>1250</td>\n      <td>43</td>\n      <td>N</td>\n      <td>0</td>\n      <td>W</td>\n      <td>1.0</td>\n      <td>W</td>\n      <td>16.0</td>\n    </tr>\n    <tr>\n      <th>4</th>\n      <td>1985</td>\n      <td>138</td>\n      <td>1207</td>\n      <td>63</td>\n      <td>1396</td>\n      <td>46</td>\n      <td>N</td>\n      <td>0</td>\n      <td>W</td>\n      <td>1.0</td>\n      <td>W</td>\n      <td>8.0</td>\n    </tr>\n  </tbody>\n</table>\n</div>"
     },
     "metadata": {},
     "execution_count": 6
    }
   ],
   "source": [
    "seedResults.head()"
   ]
  },
  {
   "cell_type": "code",
   "execution_count": null,
   "metadata": {},
   "outputs": [],
   "source": [
    "def tourneyDriver(matchupsDF, referenceDF):\n",
    "    matchups = matchupsDF[:]\n",
    "    reference = referenceDF[:]"
   ]
  }
 ]
}