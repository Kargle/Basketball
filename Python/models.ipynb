{
 "nbformat": 4,
 "nbformat_minor": 2,
 "metadata": {
  "language_info": {
   "name": "python",
   "codemirror_mode": {
    "name": "ipython",
    "version": 3
   },
   "version": "3.7.3-final"
  },
  "orig_nbformat": 2,
  "file_extension": ".py",
  "mimetype": "text/x-python",
  "name": "python",
  "npconvert_exporter": "python",
  "pygments_lexer": "ipython3",
  "version": 3,
  "kernelspec": {
   "name": "python37364bitanaconda3virtualenvbfa5aa89ad4a4a17a8c8a14bdb5884cf",
   "display_name": "Python 3.7.3 64-bit ('anaconda3': virtualenv)"
  }
 },
 "cells": [
  {
   "cell_type": "code",
   "execution_count": 1,
   "metadata": {},
   "outputs": [],
   "source": [
    "import numpy as np\n",
    "import pandas as pd\n",
    "import time\n",
    "from data import seedResults"
   ]
  },
  {
   "cell_type": "code",
   "execution_count": 2,
   "metadata": {},
   "outputs": [
    {
     "output_type": "stream",
     "name": "stdout",
     "text": "0.4260072708129883\n"
    }
   ],
   "source": [
    "nrow = seedResults.shape[0]\n",
    "seedResults['WExpected'] = seedResults.WTeamID\n",
    "\n",
    "start = time.time()\n",
    "\n",
    "for i in range(nrow):\n",
    "    if seedResults.loc[i, 'WNumSeed'] >= seedResults.loc[i, 'LNumSeed']:\n",
    "        seedResults.loc[i, 'WExpected'] = seedResults.loc[i, 'LTeamID']\n",
    "\n",
    "end = time.time()\n",
    "\n",
    "print(end - start)\n",
    "\n",
    "seedResults['correctGuess'] = seedResults.WExpected == seedResults.WTeamID"
   ]
  },
  {
   "cell_type": "code",
   "execution_count": 3,
   "metadata": {},
   "outputs": [
    {
     "output_type": "stream",
     "name": "stdout",
     "text": "Picking highest seed strategy accuracy:  0.7023545091070635\n"
    }
   ],
   "source": [
    "accuracy = seedResults.correctGuess.sum() / nrow\n",
    "print(\"Picking highest seed strategy accuracy: \", accuracy)"
   ]
  },
  {
   "cell_type": "code",
   "execution_count": null,
   "metadata": {},
   "outputs": [],
   "source": []
  }
 ]
}