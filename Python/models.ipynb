{
 "nbformat": 4,
 "nbformat_minor": 2,
 "metadata": {
  "language_info": {
   "name": "python",
   "codemirror_mode": {
    "name": "ipython",
    "version": 3
   },
   "version": "3.7.3-final"
  },
  "orig_nbformat": 2,
  "file_extension": ".py",
  "mimetype": "text/x-python",
  "name": "python",
  "npconvert_exporter": "python",
  "pygments_lexer": "ipython3",
  "version": 3,
  "kernelspec": {
   "name": "python37364bitanaconda3virtualenvbfa5aa89ad4a4a17a8c8a14bdb5884cf",
   "display_name": "Python 3.7.3 64-bit ('anaconda3': virtualenv)"
  }
 },
 "cells": [
  {
   "cell_type": "code",
   "execution_count": null,
   "metadata": {},
   "outputs": [],
   "source": [
    "import numpy as np\n",
    "import pandas as pd\n",
    "import sklearn\n",
    "import time\n",
    "from data import *"
   ]
  },
  {
   "cell_type": "code",
   "execution_count": 5,
   "metadata": {},
   "outputs": [],
   "source": [
    "seedResults = createSeedResultsDF(seeds, results)"
   ]
  },
  {
   "cell_type": "code",
   "execution_count": null,
   "metadata": {},
   "outputs": [],
   "source": [
    "nrow = seedResults.shape[0]\n",
    "seedResults['WExpected'] = seedResults.WTeamID\n",
    "\n",
    "start = time.time()\n",
    "\n",
    "for i in range(nrow):\n",
    "    if seedResults.loc[i, 'WNumSeed'] >= seedResults.loc[i, 'LNumSeed']:\n",
    "        seedResults.loc[i, 'WExpected'] = seedResults.loc[i, 'LTeamID']\n",
    "\n",
    "end = time.time()\n",
    "\n",
    "print(end - start)\n",
    "\n",
    "seedResults['correctGuess'] = seedResults.WExpected == seedResults.WTeamID"
   ]
  },
  {
   "cell_type": "code",
   "execution_count": null,
   "metadata": {},
   "outputs": [],
   "source": [
    "accuracy = seedResults.correctGuess.sum() / nrow\n",
    "print(\"Picking highest seed strategy accuracy: \", accuracy)"
   ]
  },
  {
   "cell_type": "code",
   "execution_count": 6,
   "metadata": {},
   "outputs": [
    {
     "output_type": "execute_result",
     "data": {
      "text/plain": "   Season  DayNum  WTeamID  WScore LTeamID  LScore WLoc  NumOT WSection  \\\n0    1985     136     1116      63    1234      54    N      0        X   \n1    1985     136     1120      59    1345      58    N      0        Z   \n2    1985     138     1120      66    1242      64    N      0        Z   \n3    1985     136     1207      68    1250      43    N      0        W   \n4    1985     138     1207      63    1396      46    N      0        W   \n\n   WNumSeed LSection  LNumSeed  \n0       9.0        X       8.0  \n1      11.0        Z       6.0  \n2      11.0        Z       3.0  \n3       1.0        W      16.0  \n4       1.0        W       8.0  ",
      "text/html": "<div>\n<style scoped>\n    .dataframe tbody tr th:only-of-type {\n        vertical-align: middle;\n    }\n\n    .dataframe tbody tr th {\n        vertical-align: top;\n    }\n\n    .dataframe thead th {\n        text-align: right;\n    }\n</style>\n<table border=\"1\" class=\"dataframe\">\n  <thead>\n    <tr style=\"text-align: right;\">\n      <th></th>\n      <th>Season</th>\n      <th>DayNum</th>\n      <th>WTeamID</th>\n      <th>WScore</th>\n      <th>LTeamID</th>\n      <th>LScore</th>\n      <th>WLoc</th>\n      <th>NumOT</th>\n      <th>WSection</th>\n      <th>WNumSeed</th>\n      <th>LSection</th>\n      <th>LNumSeed</th>\n    </tr>\n  </thead>\n  <tbody>\n    <tr>\n      <th>0</th>\n      <td>1985</td>\n      <td>136</td>\n      <td>1116</td>\n      <td>63</td>\n      <td>1234</td>\n      <td>54</td>\n      <td>N</td>\n      <td>0</td>\n      <td>X</td>\n      <td>9.0</td>\n      <td>X</td>\n      <td>8.0</td>\n    </tr>\n    <tr>\n      <th>1</th>\n      <td>1985</td>\n      <td>136</td>\n      <td>1120</td>\n      <td>59</td>\n      <td>1345</td>\n      <td>58</td>\n      <td>N</td>\n      <td>0</td>\n      <td>Z</td>\n      <td>11.0</td>\n      <td>Z</td>\n      <td>6.0</td>\n    </tr>\n    <tr>\n      <th>2</th>\n      <td>1985</td>\n      <td>138</td>\n      <td>1120</td>\n      <td>66</td>\n      <td>1242</td>\n      <td>64</td>\n      <td>N</td>\n      <td>0</td>\n      <td>Z</td>\n      <td>11.0</td>\n      <td>Z</td>\n      <td>3.0</td>\n    </tr>\n    <tr>\n      <th>3</th>\n      <td>1985</td>\n      <td>136</td>\n      <td>1207</td>\n      <td>68</td>\n      <td>1250</td>\n      <td>43</td>\n      <td>N</td>\n      <td>0</td>\n      <td>W</td>\n      <td>1.0</td>\n      <td>W</td>\n      <td>16.0</td>\n    </tr>\n    <tr>\n      <th>4</th>\n      <td>1985</td>\n      <td>138</td>\n      <td>1207</td>\n      <td>63</td>\n      <td>1396</td>\n      <td>46</td>\n      <td>N</td>\n      <td>0</td>\n      <td>W</td>\n      <td>1.0</td>\n      <td>W</td>\n      <td>8.0</td>\n    </tr>\n  </tbody>\n</table>\n</div>"
     },
     "metadata": {},
     "execution_count": 6
    }
   ],
   "source": [
    "seedResults.head()"
   ]
  },
  {
   "cell_type": "code",
   "execution_count": null,
   "metadata": {},
   "outputs": [],
   "source": []
  }
 ]
}