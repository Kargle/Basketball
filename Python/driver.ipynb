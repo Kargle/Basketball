{
 "nbformat": 4,
 "nbformat_minor": 2,
 "metadata": {
  "language_info": {
   "name": "python",
   "codemirror_mode": {
    "name": "ipython",
    "version": 3
   },
   "version": "3.7.3-final"
  },
  "orig_nbformat": 2,
  "file_extension": ".py",
  "mimetype": "text/x-python",
  "name": "python",
  "npconvert_exporter": "python",
  "pygments_lexer": "ipython3",
  "version": 3,
  "kernelspec": {
   "name": "python37364bitanaconda3virtualenvbfa5aa89ad4a4a17a8c8a14bdb5884cf",
   "display_name": "Python 3.7.3 64-bit ('anaconda3': virtualenv)"
  }
 },
 "cells": [
  {
   "cell_type": "code",
   "execution_count": 1,
   "metadata": {},
   "outputs": [],
   "source": [
    "import numpy as np\n",
    "import pandas as pd\n",
    "import sklearn\n",
    "import os\n",
    "import time\n",
    "from data import *\n",
    "from models import *"
   ]
  },
  {
   "cell_type": "code",
   "execution_count": 2,
   "metadata": {},
   "outputs": [],
   "source": [
    "seedResultsCompact = createSeedResults1985DF(seeds, tourneyCompactResults)\n",
    "#regSeasCompactTotals = pd.read_pickle(os.path.join(sys.path[0], '../GeneratedData/regSeasCompactTotals.pkl'))\n",
    "master1985 = createSeedResultRegTotals1985DF(seedResultsCompact, regSeasCompactTotals)"
   ]
  },
  {
   "cell_type": "code",
   "execution_count": 6,
   "metadata": {},
   "outputs": [
    {
     "output_type": "stream",
     "name": "stdout",
     "text": "Season  DayNum WTeamID  WScore  LTeamID  LScore WLoc  NumOT WSection  \\\n0   1985     136    1116      63     1234      54    N      0        X   \n1   1985     136    1120      59     1345      58    N      0        Z   \n2   1985     138    1120      66     1242      64    N      0        Z   \n3   1985     136    1207      68     1250      43    N      0        W   \n4   1985     138    1207      63     1396      46    N      0        W   \n\n   WNumSeed  ...    WG  WWins  WLosses    WPts     WPA    LG  LWins  LLosses  \\\n0       9.0  ...  33.0   21.0     12.0  2156.0  2036.0  30.0   20.0     10.0   \n1      11.0  ...  29.0   18.0     11.0  2040.0  1933.0  25.0   17.0      8.0   \n2      11.0  ...  29.0   18.0     11.0  2040.0  1933.0  30.0   23.0      7.0   \n3       1.0  ...  27.0   25.0      2.0  2045.0  1622.0  29.0   11.0     18.0   \n4       1.0  ...  27.0   25.0      2.0  2045.0  1622.0  29.0   24.0      5.0   \n\n     LPts     LPA  \n0  2092.0  1778.0  \n1  1728.0  1633.0  \n2  2281.0  2112.0  \n3  1907.0  2036.0  \n4  1903.0  1672.0  \n\n[5 rows x 22 columns]\n"
    }
   ],
   "source": [
    "print(master1985.head())"
   ]
  },
  {
   "cell_type": "code",
   "execution_count": 3,
   "metadata": {},
   "outputs": [
    {
     "output_type": "stream",
     "name": "stdout",
     "text": "1985\n1986\n1987\n1988\n1989\n1990\n1991\n1992\n1993\n1994\n1995\n1996\n1997\n1998\n1999\n2000\n2001\n2002\n2003\n2004\n2005\n2006\n2007\n2008\n2009\n2010\n2011\n2012\n2013\n2014\n2015\n2016\n2017\n2018\n2019\n11.407581027348836\n"
    }
   ],
   "source": [
    "start = time.time()\n",
    "regSeasCompactTotals = createRegSeasonStatsDF(regSeasCompactResults, columnsCompact)\n",
    "end = time.time()\n",
    "print((end - start) / 60)\n",
    "regSeasCompactTotals.to_pickle(os.path.join(sys.path[0], '../GeneratedData/regSeasCompactTotals.pkl'))"
   ]
  },
  {
   "cell_type": "code",
   "execution_count": 3,
   "metadata": {},
   "outputs": [
    {
     "output_type": "stream",
     "name": "stdout",
     "text": "Season TeamID     G     W     L     Pts      PA\n0   1985   1228  31.0  23.0   8.0  2115.0  1778.0\n1   1985   1106  24.0  10.0  14.0  1719.0  1810.0\n2   1985   1112  27.0  18.0   9.0  1796.0  1602.0\n3   1985   1165  24.0  12.0  12.0  1473.0  1418.0\n4   1985   1192  28.0  19.0   9.0  1901.0  1812.0\n"
    }
   ],
   "source": []
  },
  {
   "cell_type": "code",
   "execution_count": 3,
   "metadata": {},
   "outputs": [
    {
     "output_type": "stream",
     "name": "stdout",
     "text": "2003\n2004\n2005\n2006\n2007\n2008\n2009\n2010\n2011\n2012\n2013\n2014\n2015\n2016\n2017\n2018\n2019\n19.98338541587194\n"
    }
   ],
   "source": [
    "start = time.time()\n",
    "regSeasDetailedTotals = createRegSeasonStatsDF(regSeasDetailedResults, columnsDetailed)\n",
    "end = time.time()\n",
    "print((end - start) / 60)\n",
    "regSeasDetailedTotals.to_pickle(os.path.join(sys.path[0], '../GeneratedData/regSeasDetailedTotals.pkl'))"
   ]
  },
  {
   "cell_type": "code",
   "execution_count": null,
   "metadata": {},
   "outputs": [],
   "source": []
  }
 ]
}