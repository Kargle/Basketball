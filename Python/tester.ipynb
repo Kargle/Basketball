{
 "nbformat": 4,
 "nbformat_minor": 2,
 "metadata": {
  "language_info": {
   "name": "python",
   "codemirror_mode": {
    "name": "ipython",
    "version": 3
   },
   "version": "3.7.3-final"
  },
  "orig_nbformat": 2,
  "file_extension": ".py",
  "mimetype": "text/x-python",
  "name": "python",
  "npconvert_exporter": "python",
  "pygments_lexer": "ipython3",
  "version": 3,
  "kernelspec": {
   "name": "python37364bitanaconda3virtualenvbfa5aa89ad4a4a17a8c8a14bdb5884cf",
   "display_name": "Python 3.7.3 64-bit ('anaconda3': virtualenv)"
  }
 },
 "cells": [
  {
   "cell_type": "code",
   "execution_count": 1,
   "metadata": {},
   "outputs": [],
   "source": [
    "import numpy as np\n",
    "import pandas as pd\n",
    "from simulation import *\n",
    "from data import *\n",
    "from models import *"
   ]
  },
  {
   "cell_type": "code",
   "execution_count": 4,
   "metadata": {},
   "outputs": [],
   "source": [
    "seedResults = createSeedResultsDF(seeds, tourneyCompactResults)\n",
    "masterCompact = createMasterCompactDF(seedResults, regSeasCompactTotals)\n",
    "masterDetailed = createMasterDetailedDF(seedResults, regSeasDetailedTotals)\n",
    "masterCompact = dataAugment(masterCompact)"
   ]
  },
  {
   "cell_type": "code",
   "execution_count": 5,
   "metadata": {},
   "outputs": [
    {
     "output_type": "execute_result",
     "data": {
      "text/plain": "0.5242114615726344"
     },
     "metadata": {},
     "execution_count": 5
    }
   ],
   "source": [
    "tourneySimVsActual(list(range(1985, 2020)), betterRecordWins, masterCompact)"
   ]
  },
  {
   "cell_type": "code",
   "execution_count": 8,
   "metadata": {},
   "outputs": [
    {
     "output_type": "execute_result",
     "data": {
      "text/plain": "  Season TeamID     G     W     L     Pts      PA\n0   1985   1228  31.0  23.0   8.0  2115.0  1778.0\n1   1985   1106  24.0  10.0  14.0  1719.0  1810.0\n2   1985   1112  27.0  18.0   9.0  1796.0  1602.0\n3   1985   1165  24.0  12.0  12.0  1473.0  1418.0\n4   1985   1192  28.0  19.0   9.0  1901.0  1812.0",
      "text/html": "<div>\n<style scoped>\n    .dataframe tbody tr th:only-of-type {\n        vertical-align: middle;\n    }\n\n    .dataframe tbody tr th {\n        vertical-align: top;\n    }\n\n    .dataframe thead th {\n        text-align: right;\n    }\n</style>\n<table border=\"1\" class=\"dataframe\">\n  <thead>\n    <tr style=\"text-align: right;\">\n      <th></th>\n      <th>Season</th>\n      <th>TeamID</th>\n      <th>G</th>\n      <th>W</th>\n      <th>L</th>\n      <th>Pts</th>\n      <th>PA</th>\n    </tr>\n  </thead>\n  <tbody>\n    <tr>\n      <th>0</th>\n      <td>1985</td>\n      <td>1228</td>\n      <td>31.0</td>\n      <td>23.0</td>\n      <td>8.0</td>\n      <td>2115.0</td>\n      <td>1778.0</td>\n    </tr>\n    <tr>\n      <th>1</th>\n      <td>1985</td>\n      <td>1106</td>\n      <td>24.0</td>\n      <td>10.0</td>\n      <td>14.0</td>\n      <td>1719.0</td>\n      <td>1810.0</td>\n    </tr>\n    <tr>\n      <th>2</th>\n      <td>1985</td>\n      <td>1112</td>\n      <td>27.0</td>\n      <td>18.0</td>\n      <td>9.0</td>\n      <td>1796.0</td>\n      <td>1602.0</td>\n    </tr>\n    <tr>\n      <th>3</th>\n      <td>1985</td>\n      <td>1165</td>\n      <td>24.0</td>\n      <td>12.0</td>\n      <td>12.0</td>\n      <td>1473.0</td>\n      <td>1418.0</td>\n    </tr>\n    <tr>\n      <th>4</th>\n      <td>1985</td>\n      <td>1192</td>\n      <td>28.0</td>\n      <td>19.0</td>\n      <td>9.0</td>\n      <td>1901.0</td>\n      <td>1812.0</td>\n    </tr>\n  </tbody>\n</table>\n</div>"
     },
     "metadata": {},
     "execution_count": 8
    }
   ],
   "source": [
    "regSeasDetailedTotals.head()\n",
    "regSeasCompactTotals.head()"
   ]
  },
  {
   "cell_type": "code",
   "execution_count": 10,
   "metadata": {},
   "outputs": [],
   "source": [
    "def dataAugment(inputDF):\n",
    "    tempDF = inputDF[:]\n",
    "\n",
    "    tempDF['WRecord'] = tempDF['WWins'] / tempDF['WG']\n",
    "    tempDF['LRecord'] = tempDF['LWins'] / tempDF['LG']\n",
    "\n",
    "    return tempDF"
   ]
  },
  {
   "cell_type": "code",
   "execution_count": 13,
   "metadata": {},
   "outputs": [
    {
     "output_type": "stream",
     "name": "stdout",
     "text": "WG  WWins   WRecord\n0     29.0   13.0  0.448276\n1     28.0   25.0  0.892857\n2     28.0   25.0  0.892857\n3     28.0   25.0  0.892857\n4     29.0   18.0  0.620690\n5     29.0   23.0  0.793103\n6     29.0   21.0  0.724138\n7     30.0   21.0  0.700000\n8     30.0   21.0  0.700000\n9     30.0   24.0  0.800000\n10    30.0   24.0  0.800000\n11    31.0   23.0  0.741935\n12    30.0   24.0  0.800000\n13    30.0   23.0  0.766667\n14    30.0   23.0  0.766667\n15    30.0   23.0  0.766667\n16    30.0   23.0  0.766667\n17    30.0   23.0  0.766667\n18    28.0   23.0  0.821429\n19    28.0   23.0  0.821429\n20    28.0   23.0  0.821429\n21    28.0   23.0  0.821429\n22    31.0   21.0  0.677419\n23    31.0   22.0  0.709677\n24    31.0   22.0  0.709677\n25    30.0   24.0  0.800000\n26    30.0   24.0  0.800000\n27    30.0   24.0  0.800000\n28    31.0   23.0  0.741935\n29    31.0   22.0  0.709677\n...    ...    ...       ...\n1085  34.0   29.0  0.852941\n1086  34.0   29.0  0.852941\n1087  34.0   31.0  0.911765\n1088  34.0   31.0  0.911765\n1089  33.0   22.0  0.666667\n1090  31.0   25.0  0.806452\n1091  33.0   27.0  0.818182\n1092  33.0   27.0  0.818182\n1093  33.0   19.0  0.575758\n1094  32.0   19.0  0.593750\n1095  35.0   23.0  0.657143\n1096  35.0   23.0  0.657143\n1097  33.0   28.0  0.848485\n1098  33.0   28.0  0.848485\n1099  32.0   26.0  0.812500\n1100  32.0   26.0  0.812500\n1101  32.0   26.0  0.812500\n1102  32.0   26.0  0.812500\n1103  32.0   26.0  0.812500\n1104  34.0   29.0  0.852941\n1105  31.0   23.0  0.741935\n1106  32.0   29.0  0.906250\n1107  32.0   29.0  0.906250\n1108  32.0   29.0  0.906250\n1109  32.0   29.0  0.906250\n1110  32.0   29.0  0.906250\n1111  32.0   29.0  0.906250\n1112  32.0   24.0  0.750000\n1113  32.0   24.0  0.750000\n1114  34.0   26.0  0.764706\n\n[1115 rows x 3 columns]\n"
    }
   ],
   "source": [
    "jack = dataAugment(masterCompact)\n",
    "print(jack[['WG', 'WWins', 'WRecord']])"
   ]
  },
  {
   "cell_type": "code",
   "execution_count": null,
   "metadata": {},
   "outputs": [],
   "source": []
  }
 ]
}