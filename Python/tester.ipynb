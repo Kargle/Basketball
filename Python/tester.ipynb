{
 "nbformat": 4,
 "nbformat_minor": 2,
 "metadata": {
  "language_info": {
   "name": "python",
   "codemirror_mode": {
    "name": "ipython",
    "version": 3
   },
   "version": "3.7.3-final"
  },
  "orig_nbformat": 2,
  "file_extension": ".py",
  "mimetype": "text/x-python",
  "name": "python",
  "npconvert_exporter": "python",
  "pygments_lexer": "ipython3",
  "version": 3,
  "kernelspec": {
   "name": "python37364bitanaconda3virtualenvbfa5aa89ad4a4a17a8c8a14bdb5884cf",
   "display_name": "Python 3.7.3 64-bit ('anaconda3': virtualenv)"
  }
 },
 "cells": [
  {
   "cell_type": "code",
   "execution_count": 1,
   "metadata": {},
   "outputs": [],
   "source": [
    "import numpy as np\n",
    "import pandas as pd\n",
    "import re\n",
    "import time\n",
    "from simulation import *\n",
    "import sklearn\n",
    "import sklearn.model_selection\n",
    "import sklearn.linear_model\n",
    "from data import *\n",
    "from models import *"
   ]
  },
  {
   "cell_type": "code",
   "execution_count": 2,
   "metadata": {},
   "outputs": [
    {
     "output_type": "stream",
     "name": "stdout",
     "text": "[-0.12610203311368667, -0.8520306668493577, 0.01887670533466045, 0.11428559857497192, 0.07532343123319782, 0.07435305396702331, -0.1027230862437384, -0.08078640678482699, 0.022199914042600098, 0.05572556388065106, 0.0019097802157842401, -0.1258702218317854, -0.04996723301331393, -0.06446417087744628]\n[array([ 0.00628863,  2.14465525,  0.1394464 ,  0.09935903,  0.07448854,\n        0.14460569, -0.2962084 ])]\n"
    }
   ],
   "source": [
    "chosenFeaturesDif = [x + 'Dif' for x in chosenFeatures]\n",
    "fullModel = generateModel(yVariable, xVariables, logRegDF)\n",
    "chosenModel = generateModel(yVariable, chosenFeaturesDif, logRegDF)\n",
    "print(list(fullModel.coef_[0]))\n",
    "print(list(chosenModel.coef_))"
   ]
  },
  {
   "cell_type": "code",
   "execution_count": 3,
   "metadata": {},
   "outputs": [
    {
     "output_type": "stream",
     "name": "stdout",
     "text": "0.3399103139013453\n113.17871475219727\n"
    }
   ],
   "source": [
    "start = time.time()\n",
    "fullModelTourneyComp = tourneySimVsActual(list(range(2003, 2020)), logRegPredict, masterDetailed)\n",
    "print(fullModelTourneyComp)\n",
    "end = time.time()\n",
    "print(end - start)"
   ]
  },
  {
   "cell_type": "code",
   "execution_count": 2,
   "metadata": {},
   "outputs": [
    {
     "output_type": "stream",
     "name": "stdout",
     "text": "0.5291479820627802\n95.76233983039856\n"
    }
   ],
   "source": [
    "start = time.time()\n",
    "fullModelTourneyComp = tourneySimVsActual(list(range(2003, 2020)), logRegPredict, masterDetailed)\n",
    "print(fullModelTourneyComp)\n",
    "end = time.time()\n",
    "print(end - start)"
   ]
  },
  {
   "cell_type": "code",
   "execution_count": 3,
   "metadata": {},
   "outputs": [
    {
     "output_type": "stream",
     "name": "stdout",
     "text": "High seed wins model accuracy:  0.6428254109284762\nBetter record wins model accuracy:  0.5206574855619724\nBetter point differential wins model accuracy:  0.5824078187472235\nBetter point differential per game wins model accuracy:  0.5726343847179032\nBetter free throw percentage wins model accuracy:  0.3506726457399103\nBetter assist/turnover ratio wins model accuracy:  0.473542600896861\n"
    }
   ],
   "source": [
    "#trying models\n",
    "\n",
    "highSeedWinsAcc = tourneySimVsActual(list(range(1985, 2020)), highSeedWins, masterCompact)\n",
    "betterRecordWinsAcc = tourneySimVsActual(list(range(1985, 2020)), betterRecordWins, masterCompact)\n",
    "betterPtsDifWinsAcc = tourneySimVsActual(list(range(1985, 2020)), betterPtsDifWins, masterCompact)\n",
    "betterPtsDifPGWinsAcc = tourneySimVsActual(list(range(1985, 2020)), betterPtsDifPGWins, masterCompact)\n",
    "betterFTPercWinsAcc = tourneySimVsActual(list(range(2003, 2020)), betterFTPercWins, masterDetailed)\n",
    "betterAstTORatioWinsAcc = tourneySimVsActual(list(range(2003, 2020)), betterAstTORatioWins, masterDetailed)\n",
    "\n",
    "print('High seed wins model accuracy: ', highSeedWinsAcc)\n",
    "print('Better record wins model accuracy: ', betterRecordWinsAcc)\n",
    "print('Better point differential wins model accuracy: ', betterPtsDifWinsAcc)\n",
    "print('Better point differential per game wins model accuracy: ', betterPtsDifPGWinsAcc)\n",
    "print('Better free throw percentage wins model accuracy: ', betterFTPercWinsAcc)\n",
    "print('Better assist/turnover ratio wins model accuracy: ', betterAstTORatioWinsAcc)"
   ]
  },
  {
   "cell_type": "code",
   "execution_count": 11,
   "metadata": {},
   "outputs": [
    {
     "output_type": "stream",
     "name": "stdout",
     "text": "(836, 2) (279, 2) (836,) (279,)\n(836, 1) (279, 1) (836,) (279,)\n"
    },
    {
     "output_type": "execute_result",
     "data": {
      "text/plain": "0.942652329749104"
     },
     "metadata": {},
     "execution_count": 11
    }
   ],
   "source": [
    "### logistic regression preliminary analysis\n",
    "\n",
    "detailedLogRegDF = createDetailedLogRegDF(masterDetailed)\n",
    "\n",
    "y = detailedLogRegDF['gameOutcome'].to_numpy()\n",
    "\n",
    "logRegCols1 = ['SelfNumSeed', 'OppNumSeed']\n",
    "logRegDF2 = detailedLogRegDF[:]\n",
    "logRegDF2['NumSeedDiff'] = logRegDF2['SelfNumSeed'] - logRegDF2['OppNumSeed']\n",
    "x1 = detailedLogRegDF[logRegCols1].to_numpy()\n",
    "x2 = np.expand_dims(logRegDF2['NumSeedDiff'].to_numpy(), axis = 1)\n",
    "\n",
    "x1_train, x1_test, y1_train, y1_test = sklearn.model_selection.train_test_split(x1, y, test_size = 0.25, random_state = 1)\n",
    "x2_train, x2_test, y2_train, y2_test = sklearn.model_selection.train_test_split(x2, y, test_size = 0.25, random_state = 1)\n",
    "print(x1_train.shape, x1_test.shape, y1_train.shape, y1_test.shape)\n",
    "print(x2_train.shape, x2_test.shape, y2_train.shape, y2_test.shape)\n",
    "\n",
    "logreg1 = sklearn.linear_model.LogisticRegression()\n",
    "logreg2 = sklearn.linear_model.LogisticRegression()\n",
    "\n",
    "jack = logreg1.fit(x1_train, y1_train)\n",
    "karisch = logreg2.fit(x2_train, y2_train)\n",
    "\n",
    "jackpred = logreg1.predict(x1_test)\n",
    "karischpred = logreg2.predict(x2_test)\n",
    "\n",
    "(jackpred == karischpred).mean()"
   ]
  },
  {
   "cell_type": "code",
   "execution_count": 12,
   "metadata": {},
   "outputs": [],
   "source": [
    "def sigmoid(x):\n",
    "    return (1 / (1 + np.exp(-x)))\n",
    "\n",
    "def AIC(y, ySigmoid, k):\n",
    "    residuals = y - ySigmoid\n",
    "    RSS = (residuals ** 2).sum()\n",
    "    AIC = 2*k - 2*np.log(RSS)\n",
    "    return AIC\n",
    "\n",
    "def AICcomparison(AIC1, AIC2):\n",
    "    if AIC1 <= AIC2:\n",
    "        return np.exp((AIC1 - AIC2) / 2)\n",
    "    else:\n",
    "        return np.exp((AIC2 - AIC1) / 2)"
   ]
  },
  {
   "cell_type": "code",
   "execution_count": 28,
   "metadata": {},
   "outputs": [],
   "source": [
    "out = []\n",
    "\n",
    "for i in range(len(x2_test)):\n",
    "    iRaw = float(x2_test[i]) * float(karisch.coef_)\n",
    "    iSig = sigmoid(iRaw)\n",
    "    iPred = int(round(iSig))\n",
    "    out.append(iPred)\n",
    "\n",
    ""
   ]
  },
  {
   "cell_type": "code",
   "execution_count": 14,
   "metadata": {},
   "outputs": [
    {
     "output_type": "execute_result",
     "data": {
      "text/plain": "(1115, 79)"
     },
     "metadata": {},
     "execution_count": 14
    }
   ],
   "source": [
    "detailedLogRegDF.shape"
   ]
  },
  {
   "cell_type": "code",
   "execution_count": 46,
   "metadata": {},
   "outputs": [],
   "source": [
    "def AICcomparison(AIC1, AIC2):\n",
    "        return float(np.exp((AIC1 - AIC2) / 2))"
   ]
  },
  {
   "cell_type": "code",
   "execution_count": 54,
   "metadata": {},
   "outputs": [
    {
     "output_type": "execute_result",
     "data": {
      "text/plain": "0.006737946999085467"
     },
     "metadata": {},
     "execution_count": 54
    }
   ],
   "source": [
    "AICcomparison(90, 100)"
   ]
  },
  {
   "cell_type": "code",
   "execution_count": 35,
   "metadata": {},
   "outputs": [
    {
     "output_type": "error",
     "ename": "TypeError",
     "evalue": "type list doesn't define __round__ method",
     "traceback": [
      "\u001b[0;31m---------------------------------------------------------------------------\u001b[0m",
      "\u001b[0;31mTypeError\u001b[0m                                 Traceback (most recent call last)",
      "\u001b[0;32m<ipython-input-35-8ab74c796638>\u001b[0m in \u001b[0;36m<module>\u001b[0;34m\u001b[0m\n\u001b[1;32m      1\u001b[0m \u001b[0mfullRaw\u001b[0m \u001b[0;34m=\u001b[0m \u001b[0mx2_test\u001b[0m \u001b[0;34m*\u001b[0m \u001b[0mkarisch\u001b[0m\u001b[0;34m.\u001b[0m\u001b[0mcoef_\u001b[0m\u001b[0;34m\u001b[0m\u001b[0;34m\u001b[0m\u001b[0m\n\u001b[1;32m      2\u001b[0m \u001b[0mfullSig\u001b[0m \u001b[0;34m=\u001b[0m \u001b[0msigmoid\u001b[0m\u001b[0;34m(\u001b[0m\u001b[0mfullRaw\u001b[0m\u001b[0;34m)\u001b[0m\u001b[0;34m.\u001b[0m\u001b[0mtolist\u001b[0m\u001b[0;34m(\u001b[0m\u001b[0;34m)\u001b[0m\u001b[0;34m\u001b[0m\u001b[0;34m\u001b[0m\u001b[0m\n\u001b[0;32m----> 3\u001b[0;31m \u001b[0mfullPred\u001b[0m \u001b[0;34m=\u001b[0m \u001b[0mround\u001b[0m\u001b[0;34m(\u001b[0m\u001b[0mfullSig\u001b[0m\u001b[0;34m)\u001b[0m\u001b[0;34m\u001b[0m\u001b[0;34m\u001b[0m\u001b[0m\n\u001b[0m",
      "\u001b[0;31mTypeError\u001b[0m: type list doesn't define __round__ method"
     ]
    }
   ],
   "source": [
    "fullRaw = x2_test * karisch.coef_\n",
    "fullSig = sigmoid(fullRaw).tolist()\n",
    "fullPred = fullSig"
   ]
  },
  {
   "cell_type": "code",
   "execution_count": 43,
   "metadata": {},
   "outputs": [],
   "source": [
    "wesley = [5,3,7,8,9,4,1]"
   ]
  },
  {
   "cell_type": "code",
   "execution_count": 44,
   "metadata": {},
   "outputs": [],
   "source": [
    "wesley.sort()"
   ]
  },
  {
   "cell_type": "code",
   "execution_count": 45,
   "metadata": {},
   "outputs": [
    {
     "output_type": "execute_result",
     "data": {
      "text/plain": "[1, 3, 4, 5, 7, 8, 9]"
     },
     "metadata": {},
     "execution_count": 45
    }
   ],
   "source": [
    "wesley"
   ]
  },
  {
   "cell_type": "code",
   "execution_count": null,
   "metadata": {},
   "outputs": [],
   "source": []
  },
  {
   "cell_type": "code",
   "execution_count": null,
   "metadata": {},
   "outputs": [],
   "source": []
  },
  {
   "cell_type": "code",
   "execution_count": null,
   "metadata": {},
   "outputs": [],
   "source": []
  },
  {
   "cell_type": "code",
   "execution_count": null,
   "metadata": {},
   "outputs": [],
   "source": []
  },
  {
   "cell_type": "code",
   "execution_count": null,
   "metadata": {},
   "outputs": [],
   "source": []
  },
  {
   "cell_type": "code",
   "execution_count": 34,
   "metadata": {},
   "outputs": [
    {
     "output_type": "execute_result",
     "data": {
      "text/plain": "numpy.ndarray"
     },
     "metadata": {},
     "execution_count": 34
    }
   ],
   "source": [
    "type(fullPred)"
   ]
  },
  {
   "cell_type": "code",
   "execution_count": 29,
   "metadata": {},
   "outputs": [
    {
     "output_type": "stream",
     "name": "stdout",
     "text": "[[0.]\n [0.]\n [1.]\n [0.]\n [1.]\n [1.]\n [1.]\n [0.]\n [1.]\n [1.]]\n[0, 0, 1, 0, 1, 1, 1, 0, 1, 1]\n"
    }
   ],
   "source": [
    "print(fullPred[0:10])\n",
    "print(out[0:10])"
   ]
  },
  {
   "cell_type": "code",
   "execution_count": null,
   "metadata": {},
   "outputs": [],
   "source": []
  },
  {
   "cell_type": "code",
   "execution_count": null,
   "metadata": {},
   "outputs": [],
   "source": []
  },
  {
   "cell_type": "code",
   "execution_count": null,
   "metadata": {},
   "outputs": [],
   "source": []
  },
  {
   "cell_type": "code",
   "execution_count": null,
   "metadata": {},
   "outputs": [],
   "source": []
  },
  {
   "cell_type": "code",
   "execution_count": null,
   "metadata": {},
   "outputs": [],
   "source": []
  },
  {
   "cell_type": "code",
   "execution_count": null,
   "metadata": {},
   "outputs": [],
   "source": []
  },
  {
   "cell_type": "code",
   "execution_count": null,
   "metadata": {},
   "outputs": [],
   "source": []
  }
 ]
}