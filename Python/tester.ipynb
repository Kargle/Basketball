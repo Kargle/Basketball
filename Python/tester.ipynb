{
 "nbformat": 4,
 "nbformat_minor": 2,
 "metadata": {
  "language_info": {
   "name": "python",
   "codemirror_mode": {
    "name": "ipython",
    "version": 3
   },
   "version": "3.7.3-final"
  },
  "orig_nbformat": 2,
  "file_extension": ".py",
  "mimetype": "text/x-python",
  "name": "python",
  "npconvert_exporter": "python",
  "pygments_lexer": "ipython3",
  "version": 3,
  "kernelspec": {
   "name": "python37364bitanaconda3virtualenvbfa5aa89ad4a4a17a8c8a14bdb5884cf",
   "display_name": "Python 3.7.3 64-bit ('anaconda3': virtualenv)"
  }
 },
 "cells": [
  {
   "cell_type": "code",
   "execution_count": 1,
   "metadata": {},
   "outputs": [],
   "source": [
    "import numpy as np\n",
    "import pandas as pd\n",
    "import re\n",
    "from simulation import *\n",
    "import sklearn\n",
    "import sklearn.model_selection\n",
    "import sklearn.linear_model\n",
    "from data import *\n",
    "from models import *"
   ]
  },
  {
   "cell_type": "code",
   "execution_count": 2,
   "metadata": {},
   "outputs": [],
   "source": [
    "seedResults = createSeedResultsDF(seeds, tourneyCompactResults)\n",
    "masterCompact = createMasterDF(seedResults, regSeasCompactTotals)\n",
    "masterDetailed = createMasterDF(seedResults, regSeasDetailedTotals)"
   ]
  },
  {
   "cell_type": "code",
   "execution_count": 5,
   "metadata": {},
   "outputs": [
    {
     "output_type": "stream",
     "name": "stdout",
     "text": "High seed wins model accuracy:  0.6410484229231452\nBetter record wins model accuracy:  0.6406041759218125\nBetter point differential wins model accuracy:  0.5832963127498889\nBetter point differential per game wins model accuracy:  0.5726343847179032\nBetter free throw percentage wins model accuracy:  0.3506726457399103\nBetter assist/turnover ratio wins model accuracy:  0.473542600896861\n"
    }
   ],
   "source": [
    "#trying models\n",
    "\n",
    "highSeedWinsAcc = tourneySimVsActual(list(range(1985, 2020)), highSeedWins, masterCompact)\n",
    "betterRecordWinsAcc = tourneySimVsActual(list(range(1985, 2020)), highSeedWins, masterCompact)\n",
    "betterPtsDifWinsAcc = tourneySimVsActual(list(range(1985, 2020)), betterPtsDifWins, masterCompact)\n",
    "betterPtsDifPGWinsAcc = tourneySimVsActual(list(range(1985, 2020)), betterPtsDifPGWins, masterCompact)\n",
    "betterFTPercWinsAcc = tourneySimVsActual(list(range(2003, 2020)), betterFTPercWins, masterDetailed)\n",
    "betterAstTORatioWinsAcc = tourneySimVsActual(list(range(2003, 2020)), betterAstTORatioWins, masterDetailed)\n",
    "\n",
    "print('High seed wins model accuracy: ', highSeedWinsAcc)\n",
    "print('Better record wins model accuracy: ', betterRecordWinsAcc)\n",
    "print('Better point differential wins model accuracy: ', betterPtsDifWinsAcc)\n",
    "print('Better point differential per game wins model accuracy: ', betterPtsDifPGWinsAcc)\n",
    "print('Better free throw percentage wins model accuracy: ', betterFTPercWinsAcc)\n",
    "print('Better assist/turnover ratio wins model accuracy: ', betterAstTORatioWinsAcc)"
   ]
  },
  {
   "cell_type": "code",
   "execution_count": 17,
   "metadata": {},
   "outputs": [],
   "source": [
    "### logistic regression preliminary analysis\n",
    "\n",
    "detailedLogRegDF = createDetailedLogRegDF(masterDetailed)\n",
    "\n",
    "y = detailedLogRegDF['gameOutcome'].to_numpy()\n",
    "\n",
    "logRegCols1 = ['SelfNumSeed', 'OppNumSeed']\n",
    "logRegDF2 = detailedLogRegDF[:]\n",
    "logRegDF2['NumSeedDiff'] = logRegDF2['SelfNumSeed'] - logRegDF2['OppNumSeed']\n",
    "x1 = detailedLogRegDF[logRegCols1].to_numpy()\n",
    "x2 = np.expand_dims(logRegDF2['NumSeedDiff'].to_numpy(), axis = 1)\n",
    "\n",
    "x1_train, x1_test, y1_train, y1_test = sklearn.model_selection.train_test_split(x1, y, test_size = 0.25, random_state = 1)\n",
    "x2_train, x2_test, y2_train, y2_test = sklearn.model_selection.train_test_split(x2, y, test_size = 0.25, random_state = 1)\n",
    "print(x1_train.shape, x1_test.shape, y1_train.shape, y1_test.shape)\n",
    "print(x2_train.shape, x2_test.shape, y2_train.shape, y2_test.shape)\n",
    "\n",
    "logreg1 = sklearn.linear_model.LogisticRegression()\n",
    "logreg2 = sklearn.linear_model.LogisticRegression()\n",
    "\n",
    "jack = logreg1.fit(x1_train, y1_train)\n",
    "karisch = logreg2.fit(x2_train, y2_train)\n",
    "\n",
    "jackpred = logreg1.predict(x1_test)\n",
    "karischpred = logreg2.predict(x2_test)\n",
    "\n",
    "(jackpred == karischpred).mean()"
   ]
  }
 ]
}