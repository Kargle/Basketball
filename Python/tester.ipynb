{
 "nbformat": 4,
 "nbformat_minor": 2,
 "metadata": {
  "language_info": {
   "name": "python",
   "codemirror_mode": {
    "name": "ipython",
    "version": 3
   },
   "version": "3.7.3-final"
  },
  "orig_nbformat": 2,
  "file_extension": ".py",
  "mimetype": "text/x-python",
  "name": "python",
  "npconvert_exporter": "python",
  "pygments_lexer": "ipython3",
  "version": 3,
  "kernelspec": {
   "name": "python37364bitanaconda3virtualenvbfa5aa89ad4a4a17a8c8a14bdb5884cf",
   "display_name": "Python 3.7.3 64-bit ('anaconda3': virtualenv)"
  }
 },
 "cells": [
  {
   "cell_type": "code",
   "execution_count": 2,
   "metadata": {},
   "outputs": [],
   "source": [
    "import numpy as np\n",
    "import pandas as pd\n",
    "import re\n",
    "from simulation import *\n",
    "import sklearn\n",
    "import sklearn.model_selection\n",
    "import sklearn.linear_model\n",
    "from data import *\n",
    "from models import *"
   ]
  },
  {
   "cell_type": "code",
   "execution_count": 9,
   "metadata": {},
   "outputs": [],
   "source": [
    "seedResults = createSeedResultsDF(seeds, tourneyCompactResults)\n",
    "masterCompact = createMasterDF(seedResults, regSeasCompactTotals)\n",
    "masterDetailed = createMasterDF(seedResults, regSeasDetailedTotals)"
   ]
  },
  {
   "cell_type": "code",
   "execution_count": 17,
   "metadata": {},
   "outputs": [],
   "source": [
    "detailedLogRegDF = createDetailedLogRegDF(masterDetailed)"
   ]
  },
  {
   "cell_type": "code",
   "execution_count": 25,
   "metadata": {},
   "outputs": [],
   "source": [
    "y = detailedLogRegDF['gameOutcome'].to_numpy()"
   ]
  },
  {
   "cell_type": "code",
   "execution_count": 38,
   "metadata": {},
   "outputs": [],
   "source": [
    "logRegCols1 = ['SelfNumSeed', 'OppNumSeed']\n",
    "logRegDF2 = detailedLogRegDF[:]\n",
    "logRegDF2['NumSeedDiff'] = logRegDF2['SelfNumSeed'] - logRegDF2['OppNumSeed']\n",
    "x1 = detailedLogRegDF[logRegCols1].to_numpy()\n",
    "x2 = np.expand_dims(logRegDF2['NumSeedDiff'].to_numpy(), axis = 1)"
   ]
  },
  {
   "cell_type": "code",
   "execution_count": 24,
   "metadata": {},
   "outputs": [
    {
     "output_type": "stream",
     "name": "stdout",
     "text": "(1115, 78)\n(1115,)\n"
    }
   ],
   "source": [
    "x = detailedLogRegDF[detailedLogRegDF.columns[0:-1]].as_matrix()\n",
    "y = detailedLogRegDF['gameOutcome'].to_numpy()\n",
    "\n",
    "print(x.shape)\n",
    "print(y.shape)"
   ]
  },
  {
   "cell_type": "code",
   "execution_count": 45,
   "metadata": {},
   "outputs": [
    {
     "output_type": "stream",
     "name": "stdout",
     "text": "(836, 2) (279, 2) (836,) (279,)\n(836, 1) (279, 1) (836,) (279,)\n"
    }
   ],
   "source": [
    "x1_train, x1_test, y1_train, y1_test = sklearn.model_selection.train_test_split(x1, y, test_size = 0.25, random_state = 1)\n",
    "x2_train, x2_test, y2_train, y2_test = sklearn.model_selection.train_test_split(x2, y, test_size = 0.25, random_state = 1)\n",
    "print(x1_train.shape, x1_test.shape, y1_train.shape, y1_test.shape)\n",
    "print(x2_train.shape, x2_test.shape, y2_train.shape, y2_test.shape)"
   ]
  },
  {
   "cell_type": "code",
   "execution_count": 46,
   "metadata": {},
   "outputs": [],
   "source": [
    "logreg1 = sklearn.linear_model.LogisticRegression()\n",
    "logreg2 = sklearn.linear_model.LogisticRegression()"
   ]
  },
  {
   "cell_type": "code",
   "execution_count": 47,
   "metadata": {},
   "outputs": [],
   "source": [
    "jack = logreg1.fit(x1_train, y1_train)\n",
    "karisch = logreg2.fit(x2_train, y2_train)"
   ]
  },
  {
   "cell_type": "code",
   "execution_count": 48,
   "metadata": {},
   "outputs": [
    {
     "output_type": "execute_result",
     "data": {
      "text/plain": "array([[-0.16238628,  0.17467152]])"
     },
     "metadata": {},
     "execution_count": 48
    }
   ],
   "source": [
    "jack.coef_"
   ]
  },
  {
   "cell_type": "code",
   "execution_count": 49,
   "metadata": {},
   "outputs": [
    {
     "output_type": "execute_result",
     "data": {
      "text/plain": "array([[-0.16845684]])"
     },
     "metadata": {},
     "execution_count": 49
    }
   ],
   "source": [
    "karisch.coef_"
   ]
  },
  {
   "cell_type": "code",
   "execution_count": 50,
   "metadata": {},
   "outputs": [],
   "source": [
    "jackpred = logreg1.predict(x1_test)\n",
    "karischpred = logreg2.predict(x2_test)"
   ]
  },
  {
   "cell_type": "code",
   "execution_count": 54,
   "metadata": {},
   "outputs": [
    {
     "output_type": "execute_result",
     "data": {
      "text/plain": "0.982078853046595"
     },
     "metadata": {},
     "execution_count": 54
    }
   ],
   "source": [
    "(jackpred == karischpred).mean()"
   ]
  },
  {
   "cell_type": "code",
   "execution_count": null,
   "metadata": {},
   "outputs": [],
   "source": []
  }
 ]
}