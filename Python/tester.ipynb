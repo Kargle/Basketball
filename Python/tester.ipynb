{
 "nbformat": 4,
 "nbformat_minor": 2,
 "metadata": {
  "language_info": {
   "name": "python",
   "codemirror_mode": {
    "name": "ipython",
    "version": 3
   },
   "version": "3.7.3-final"
  },
  "orig_nbformat": 2,
  "file_extension": ".py",
  "mimetype": "text/x-python",
  "name": "python",
  "npconvert_exporter": "python",
  "pygments_lexer": "ipython3",
  "version": 3,
  "kernelspec": {
   "name": "python37364bitanaconda3virtualenvbfa5aa89ad4a4a17a8c8a14bdb5884cf",
   "display_name": "Python 3.7.3 64-bit ('anaconda3': virtualenv)"
  }
 },
 "cells": [
  {
   "cell_type": "code",
   "execution_count": 1,
   "metadata": {},
   "outputs": [],
   "source": [
    "import numpy as np\n",
    "import pandas as pd\n",
    "import re\n",
    "from simulation import *\n",
    "import sklearn\n",
    "import sklearn.model_selection\n",
    "import sklearn.linear_model\n",
    "from data import *\n",
    "from models import *"
   ]
  },
  {
   "cell_type": "code",
   "execution_count": 5,
   "metadata": {},
   "outputs": [
    {
     "output_type": "stream",
     "name": "stdout",
     "text": "\n  Season TeamID     G  Wins  Losses     Pts      PA    FGM     FGA   FGM3  \\\n0   2003   1104  28.0  17.0    11.0  1940.0  1820.0  673.0  1601.0  178.0   \n1   2003   1272  29.0  23.0     6.0  2161.0  1909.0  762.0  1740.0  203.0   \n2   2003   1266  28.0  23.0     5.0  2195.0  1895.0  762.0  1575.0  162.0   \n3   2003   1296  31.0  17.0    14.0  2158.0  2164.0  755.0  1645.0  195.0   \n4   2003   1400  28.0  22.0     6.0  2208.0  1923.0  784.0  1748.0  164.0   \n\n   ...      TR      RebPG      AstPG       TOPG     StlPG     BlkPG  \\\n0  ...  1050.0  37.500000  12.107143  13.285714  6.607143  3.785714   \n1  ...  1161.0  40.034483  16.620690  13.793103  7.379310  5.068966   \n2  ...  1041.0  37.178571  16.321429  13.571429  6.000000  3.642857   \n3  ...  1105.0  35.645161  12.677419  17.000000  7.612903  3.612903   \n4  ...  1185.0  42.321429  14.500000  13.428571  6.392857  3.857143   \n\n        PFPG  PtsDif   PtsPGDif       ATR  \n0  18.035714   120.0   4.285714  0.911290  \n1  18.758621   252.0   8.689655  1.205000  \n2  18.642857   300.0  10.714286  1.202632  \n3  19.806452    -6.0  -0.193548  0.745731  \n4  20.357143   285.0  10.178571  1.079787  \n\n[5 rows x 35 columns]\n"
    }
   ],
   "source": [
    "print('')\n",
    "print(regSeasDetailedTotals.head())"
   ]
  },
  {
   "cell_type": "code",
   "execution_count": null,
   "metadata": {},
   "outputs": [],
   "source": []
  },
  {
   "cell_type": "code",
   "execution_count": 3,
   "metadata": {},
   "outputs": [],
   "source": [
    "seedResults = createSeedResultsDF(seeds, tourneyCompactResults)\n",
    "masterCompact = createMasterDF(seedResults, regSeasCompactTotals)\n",
    "masterDetailed = createMasterDF(seedResults, regSeasDetailedTotals)"
   ]
  },
  {
   "cell_type": "code",
   "execution_count": 5,
   "metadata": {},
   "outputs": [
    {
     "output_type": "stream",
     "name": "stdout",
     "text": "High seed wins model accuracy:  0.6410484229231452\nBetter record wins model accuracy:  0.6406041759218125\nBetter point differential wins model accuracy:  0.5832963127498889\nBetter point differential per game wins model accuracy:  0.5726343847179032\nBetter free throw percentage wins model accuracy:  0.3506726457399103\nBetter assist/turnover ratio wins model accuracy:  0.473542600896861\n"
    }
   ],
   "source": [
    "#trying models\n",
    "\n",
    "highSeedWinsAcc = tourneySimVsActual(list(range(1985, 2020)), highSeedWins, masterCompact)\n",
    "betterRecordWinsAcc = tourneySimVsActual(list(range(1985, 2020)), highSeedWins, masterCompact)\n",
    "betterPtsDifWinsAcc = tourneySimVsActual(list(range(1985, 2020)), betterPtsDifWins, masterCompact)\n",
    "betterPtsDifPGWinsAcc = tourneySimVsActual(list(range(1985, 2020)), betterPtsDifPGWins, masterCompact)\n",
    "betterFTPercWinsAcc = tourneySimVsActual(list(range(2003, 2020)), betterFTPercWins, masterDetailed)\n",
    "betterAstTORatioWinsAcc = tourneySimVsActual(list(range(2003, 2020)), betterAstTORatioWins, masterDetailed)\n",
    "\n",
    "print('High seed wins model accuracy: ', highSeedWinsAcc)\n",
    "print('Better record wins model accuracy: ', betterRecordWinsAcc)\n",
    "print('Better point differential wins model accuracy: ', betterPtsDifWinsAcc)\n",
    "print('Better point differential per game wins model accuracy: ', betterPtsDifPGWinsAcc)\n",
    "print('Better free throw percentage wins model accuracy: ', betterFTPercWinsAcc)\n",
    "print('Better assist/turnover ratio wins model accuracy: ', betterAstTORatioWinsAcc)"
   ]
  },
  {
   "cell_type": "code",
   "execution_count": 4,
   "metadata": {},
   "outputs": [
    {
     "output_type": "stream",
     "name": "stdout",
     "text": "(836, 2) (279, 2) (836,) (279,)\n(836, 1) (279, 1) (836,) (279,)\n"
    },
    {
     "output_type": "execute_result",
     "data": {
      "text/plain": "0.992831541218638"
     },
     "metadata": {},
     "execution_count": 4
    }
   ],
   "source": [
    "### logistic regression preliminary analysis\n",
    "\n",
    "detailedLogRegDF = createDetailedLogRegDF(masterDetailed)\n",
    "\n",
    "y = detailedLogRegDF['gameOutcome'].to_numpy()\n",
    "\n",
    "logRegCols1 = ['SelfNumSeed', 'OppNumSeed']\n",
    "logRegDF2 = detailedLogRegDF[:]\n",
    "logRegDF2['NumSeedDiff'] = logRegDF2['SelfNumSeed'] - logRegDF2['OppNumSeed']\n",
    "x1 = detailedLogRegDF[logRegCols1].to_numpy()\n",
    "x2 = np.expand_dims(logRegDF2['NumSeedDiff'].to_numpy(), axis = 1)\n",
    "\n",
    "x1_train, x1_test, y1_train, y1_test = sklearn.model_selection.train_test_split(x1, y, test_size = 0.25, random_state = 1)\n",
    "x2_train, x2_test, y2_train, y2_test = sklearn.model_selection.train_test_split(x2, y, test_size = 0.25, random_state = 1)\n",
    "print(x1_train.shape, x1_test.shape, y1_train.shape, y1_test.shape)\n",
    "print(x2_train.shape, x2_test.shape, y2_train.shape, y2_test.shape)\n",
    "\n",
    "logreg1 = sklearn.linear_model.LogisticRegression()\n",
    "logreg2 = sklearn.linear_model.LogisticRegression()\n",
    "\n",
    "jack = logreg1.fit(x1_train, y1_train)\n",
    "karisch = logreg2.fit(x2_train, y2_train)\n",
    "\n",
    "jackpred = logreg1.predict(x1_test)\n",
    "karischpred = logreg2.predict(x2_test)\n",
    "\n",
    "(jackpred == karischpred).mean()"
   ]
  },
  {
   "cell_type": "code",
   "execution_count": 64,
   "metadata": {},
   "outputs": [],
   "source": [
    "def sigmoid(x):\n",
    "    return (1 / (1 + np.exp(-x)))\n",
    "\n",
    "def AIC(y, ySigmoid, k):\n",
    "    residuals = y - ySigmoid\n",
    "    RSS = (residuals ** 2).sum()\n",
    "    AIC = 2*k - 2*np.log(RSS)\n",
    "    return AIC\n",
    "\n",
    "def AICcomparison(AIC1, AIC2):\n",
    "    if AIC1 <= AIC2:\n",
    "        return np.exp((AIC1 - AIC2) / 2)\n",
    "    else:\n",
    "        return np.exp((AIC2 - AIC1) / 2)"
   ]
  },
  {
   "cell_type": "code",
   "execution_count": 51,
   "metadata": {},
   "outputs": [],
   "source": [
    "out = []\n",
    "\n",
    "for i in range(len(x2_test)):\n",
    "    iRaw = float(x2_test[i]) * float(karisch.coef_)\n",
    "    iSig = sigmoid(iRaw)\n",
    "    iPred = int(round(iSig))\n",
    "    out.append(iSig)"
   ]
  },
  {
   "cell_type": "code",
   "execution_count": 66,
   "metadata": {},
   "outputs": [
    {
     "output_type": "execute_result",
     "data": {
      "text/plain": "Index(['Season', 'DayNum', 'WTeamID', 'WScore', 'LTeamID', 'LScore', 'WLoc',\n       'NumOT', 'WSection', 'WNumSeed', 'LSection', 'LNumSeed', 'WG', 'WWins',\n       'WLosses', 'WPts', 'WPA', 'WFGM', 'WFGA', 'WFGM3', 'WFGA3', 'WFTM',\n       'WFTA', 'WOR', 'WDR', 'WAst', 'WTO', 'WStl', 'WBlk', 'WPF', 'WRecord',\n       'WPtsPG', 'WFGPerc', 'WFG3Perc', 'WFTPerc', 'WTR', 'WRebPG', 'WAstPG',\n       'WTOPG', 'WStlPG', 'WBlkPG', 'WPFPG', 'WPtsDif', 'WPtsPGDif', 'WATR',\n       'LG', 'LWins', 'LLosses', 'LPts', 'LPA', 'LFGM', 'LFGA', 'LFGM3',\n       'LFGA3', 'LFTM', 'LFTA', 'LOR', 'LDR', 'LAst', 'LTO', 'LStl', 'LBlk',\n       'LPF', 'LRecord', 'LPtsPG', 'LFGPerc', 'LFG3Perc', 'LFTPerc', 'LTR',\n       'LRebPG', 'LAstPG', 'LTOPG', 'LStlPG', 'LBlkPG', 'LPFPG', 'LPtsDif',\n       'LPtsPGDif', 'LATR'],\n      dtype='object')"
     },
     "metadata": {},
     "execution_count": 66
    }
   ],
   "source": [
    "masterDetailed.columns"
   ]
  }
 ]
}