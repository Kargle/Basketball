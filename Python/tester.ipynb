{
 "cells": [
  {
   "cell_type": "code",
   "execution_count": 1,
   "metadata": {},
   "outputs": [],
   "source": [
    "import numpy as np\n",
    "import pandas as pd\n",
    "import re\n",
    "import time\n",
    "from simulation import *\n",
    "import sklearn\n",
    "import sklearn.model_selection\n",
    "import sklearn.linear_model\n",
    "from data import *\n",
    "from models import *"
   ]
  },
  {
   "cell_type": "code",
   "execution_count": 2,
   "metadata": {},
   "outputs": [
    {
     "output_type": "execute_result",
     "data": {
      "text/plain": "    index Season  DayNum selfTeamID  selfScore oppTeamID  oppScore wLoc  \\\n2       2   2003     138       1112         96      1211        95    N   \n7       7   2003     136       1163         58      1140        53    N   \n8       8   2003     138       1163         85      1390        74    N   \n10     10   2003     138       1181         86      1141        60    N   \n11     11   2003     136       1211         74      1153        69    N   \n\n    NumOT selfSection  ...   PFPGDif PtsDifDif  PtsPGDifDif    ATRDif  \\\n2       2           Z  ... -0.895161     144.0     6.093318  0.111197   \n7       0           X  ... -3.019355     -13.0    -0.140860  0.012926   \n8       0           X  ... -0.116129      95.0     3.343011 -0.033071   \n10      0           Z  ...  0.301149     170.0     5.463218  0.129416   \n11      0           Z  ... -0.319124     112.0     3.049539 -0.076209   \n\n    TrueShtPercDif   ORPGDif   DRPGDif  FTAPGDif  ConfAppDif  DefMetricDif  \n2        -0.034694  3.243088  2.320276  0.354839        30.0      0.209736  \n7        -0.043620  3.895699  3.480645 -2.061290       201.0      0.635978  \n8         0.019594  1.024731  2.770968  1.325806       172.0      0.660426  \n10       -0.065117  3.180460 -0.175862  2.894253       239.0      0.239635  \n11        0.084915 -0.207373  1.929724  3.109447        -4.0      0.020735  \n\n[5 rows x 124 columns]",
      "text/html": "<div>\n<style scoped>\n    .dataframe tbody tr th:only-of-type {\n        vertical-align: middle;\n    }\n\n    .dataframe tbody tr th {\n        vertical-align: top;\n    }\n\n    .dataframe thead th {\n        text-align: right;\n    }\n</style>\n<table border=\"1\" class=\"dataframe\">\n  <thead>\n    <tr style=\"text-align: right;\">\n      <th></th>\n      <th>index</th>\n      <th>Season</th>\n      <th>DayNum</th>\n      <th>selfTeamID</th>\n      <th>selfScore</th>\n      <th>oppTeamID</th>\n      <th>oppScore</th>\n      <th>wLoc</th>\n      <th>NumOT</th>\n      <th>selfSection</th>\n      <th>...</th>\n      <th>PFPGDif</th>\n      <th>PtsDifDif</th>\n      <th>PtsPGDifDif</th>\n      <th>ATRDif</th>\n      <th>TrueShtPercDif</th>\n      <th>ORPGDif</th>\n      <th>DRPGDif</th>\n      <th>FTAPGDif</th>\n      <th>ConfAppDif</th>\n      <th>DefMetricDif</th>\n    </tr>\n  </thead>\n  <tbody>\n    <tr>\n      <th>2</th>\n      <td>2</td>\n      <td>2003</td>\n      <td>138</td>\n      <td>1112</td>\n      <td>96</td>\n      <td>1211</td>\n      <td>95</td>\n      <td>N</td>\n      <td>2</td>\n      <td>Z</td>\n      <td>...</td>\n      <td>-0.895161</td>\n      <td>144.0</td>\n      <td>6.093318</td>\n      <td>0.111197</td>\n      <td>-0.034694</td>\n      <td>3.243088</td>\n      <td>2.320276</td>\n      <td>0.354839</td>\n      <td>30.0</td>\n      <td>0.209736</td>\n    </tr>\n    <tr>\n      <th>7</th>\n      <td>7</td>\n      <td>2003</td>\n      <td>136</td>\n      <td>1163</td>\n      <td>58</td>\n      <td>1140</td>\n      <td>53</td>\n      <td>N</td>\n      <td>0</td>\n      <td>X</td>\n      <td>...</td>\n      <td>-3.019355</td>\n      <td>-13.0</td>\n      <td>-0.140860</td>\n      <td>0.012926</td>\n      <td>-0.043620</td>\n      <td>3.895699</td>\n      <td>3.480645</td>\n      <td>-2.061290</td>\n      <td>201.0</td>\n      <td>0.635978</td>\n    </tr>\n    <tr>\n      <th>8</th>\n      <td>8</td>\n      <td>2003</td>\n      <td>138</td>\n      <td>1163</td>\n      <td>85</td>\n      <td>1390</td>\n      <td>74</td>\n      <td>N</td>\n      <td>0</td>\n      <td>X</td>\n      <td>...</td>\n      <td>-0.116129</td>\n      <td>95.0</td>\n      <td>3.343011</td>\n      <td>-0.033071</td>\n      <td>0.019594</td>\n      <td>1.024731</td>\n      <td>2.770968</td>\n      <td>1.325806</td>\n      <td>172.0</td>\n      <td>0.660426</td>\n    </tr>\n    <tr>\n      <th>10</th>\n      <td>10</td>\n      <td>2003</td>\n      <td>138</td>\n      <td>1181</td>\n      <td>86</td>\n      <td>1141</td>\n      <td>60</td>\n      <td>N</td>\n      <td>0</td>\n      <td>Z</td>\n      <td>...</td>\n      <td>0.301149</td>\n      <td>170.0</td>\n      <td>5.463218</td>\n      <td>0.129416</td>\n      <td>-0.065117</td>\n      <td>3.180460</td>\n      <td>-0.175862</td>\n      <td>2.894253</td>\n      <td>239.0</td>\n      <td>0.239635</td>\n    </tr>\n    <tr>\n      <th>11</th>\n      <td>11</td>\n      <td>2003</td>\n      <td>136</td>\n      <td>1211</td>\n      <td>74</td>\n      <td>1153</td>\n      <td>69</td>\n      <td>N</td>\n      <td>0</td>\n      <td>Z</td>\n      <td>...</td>\n      <td>-0.319124</td>\n      <td>112.0</td>\n      <td>3.049539</td>\n      <td>-0.076209</td>\n      <td>0.084915</td>\n      <td>-0.207373</td>\n      <td>1.929724</td>\n      <td>3.109447</td>\n      <td>-4.0</td>\n      <td>0.020735</td>\n    </tr>\n  </tbody>\n</table>\n<p>5 rows × 124 columns</p>\n</div>"
     },
     "metadata": {},
     "execution_count": 2
    }
   ],
   "source": [
    "logRegDF.head()"
   ]
  },
  {
   "cell_type": "code",
   "execution_count": 3,
   "metadata": {},
   "outputs": [
    {
     "output_type": "stream",
     "name": "stdout",
     "text": "['SeedDif', 'RecordDif', 'PtsPGDif', 'PtsPGDifDif', 'TrueShtPercDif', 'ORPGDif', 'DRPGDif', 'AstPGDif', 'StlPGDif', 'BlkPGDif', 'TOPGDif', 'ATRDif', 'PFPGDif', 'FTAPGDif', 'DefMetricDif', 'ConfAppDif']\n"
    }
   ],
   "source": [
    "print(xVariables)"
   ]
  },
  {
   "cell_type": "code",
   "execution_count": 9,
   "metadata": {},
   "outputs": [],
   "source": [
    "jack = logisticSelectMulti(yVariable, xVariables, logRegDF, trials = 1000)"
   ]
  },
  {
   "cell_type": "code",
   "execution_count": 10,
   "metadata": {},
   "outputs": [
    {
     "output_type": "execute_result",
     "data": {
      "text/plain": "[0.304,\n 0.467,\n 0.556,\n 0.373,\n 0.55,\n 0.52,\n 0.564,\n 0.596,\n 0.565,\n 0.521,\n 0.53,\n 0.541,\n 0.539,\n 0.56,\n 0.535,\n 0.389]"
     },
     "metadata": {},
     "execution_count": 10
    }
   ],
   "source": [
    "jack"
   ]
  },
  {
   "cell_type": "code",
   "execution_count": 19,
   "metadata": {},
   "outputs": [
    {
     "output_type": "execute_result",
     "data": {
      "text/plain": "array([ True,  True,  True,  True,  True,  True,  True,  True,  True,\n        True,  True,  True,  True,  True,  True,  True,  True,  True,\n        True,  True,  True,  True,  True,  True,  True,  True,  True,\n        True,  True,  True,  True,  True,  True,  True])"
     },
     "metadata": {},
     "execution_count": 19
    }
   ],
   "source": [
    "jack.index.sort_values() == karisch.index.sort_values()"
   ]
  },
  {
   "cell_type": "code",
   "execution_count": 9,
   "metadata": {},
   "outputs": [
    {
     "output_type": "execute_result",
     "data": {
      "text/plain": "  Season TeamID     G  Wins  Losses     Pts      PA    FGM     FGA   FGM3  \\\n0   2003   1104  28.0  17.0    11.0  1940.0  1820.0  673.0  1601.0  178.0   \n1   2003   1272  29.0  23.0     6.0  2161.0  1909.0  762.0  1740.0  203.0   \n2   2003   1266  28.0  23.0     5.0  2195.0  1895.0  762.0  1575.0  162.0   \n3   2003   1296  31.0  17.0    14.0  2158.0  2164.0  755.0  1645.0  195.0   \n4   2003   1400  28.0  22.0     6.0  2208.0  1923.0  784.0  1748.0  164.0   \n\n   ...  TrueShtPerc       ORPG       DRPG      FTAPG  StlPGnorm  BlkPGnorm  \\\n0  ...     0.560720  13.571429  23.928571  20.928571   1.014787   1.136664   \n1  ...     0.572881  14.068966  25.965517  22.896552   1.133384   1.521961   \n2  ...     0.637926  13.107143  24.071429  23.607143   0.921537   1.093771   \n3  ...     0.600218  13.000000  22.645161  22.387097   1.169261   1.084777   \n4  ...     0.582733  16.178571  26.142857  23.785714   0.981875   1.158110   \n\n   PFPGnorm  DRPGnorm  DefMetric  ConfAbbrev  \n0  0.967566  1.013454   1.705376         sec  \n1  1.006348  1.099726   1.974522        cusa  \n2  1.000138  1.019505   1.666506        cusa  \n3  1.062561  0.959097   1.760450         mac  \n4  1.092104  1.107236   1.791725  big_twelve  \n\n[5 rows x 45 columns]",
      "text/html": "<div>\n<style scoped>\n    .dataframe tbody tr th:only-of-type {\n        vertical-align: middle;\n    }\n\n    .dataframe tbody tr th {\n        vertical-align: top;\n    }\n\n    .dataframe thead th {\n        text-align: right;\n    }\n</style>\n<table border=\"1\" class=\"dataframe\">\n  <thead>\n    <tr style=\"text-align: right;\">\n      <th></th>\n      <th>Season</th>\n      <th>TeamID</th>\n      <th>G</th>\n      <th>Wins</th>\n      <th>Losses</th>\n      <th>Pts</th>\n      <th>PA</th>\n      <th>FGM</th>\n      <th>FGA</th>\n      <th>FGM3</th>\n      <th>...</th>\n      <th>TrueShtPerc</th>\n      <th>ORPG</th>\n      <th>DRPG</th>\n      <th>FTAPG</th>\n      <th>StlPGnorm</th>\n      <th>BlkPGnorm</th>\n      <th>PFPGnorm</th>\n      <th>DRPGnorm</th>\n      <th>DefMetric</th>\n      <th>ConfAbbrev</th>\n    </tr>\n  </thead>\n  <tbody>\n    <tr>\n      <th>0</th>\n      <td>2003</td>\n      <td>1104</td>\n      <td>28.0</td>\n      <td>17.0</td>\n      <td>11.0</td>\n      <td>1940.0</td>\n      <td>1820.0</td>\n      <td>673.0</td>\n      <td>1601.0</td>\n      <td>178.0</td>\n      <td>...</td>\n      <td>0.560720</td>\n      <td>13.571429</td>\n      <td>23.928571</td>\n      <td>20.928571</td>\n      <td>1.014787</td>\n      <td>1.136664</td>\n      <td>0.967566</td>\n      <td>1.013454</td>\n      <td>1.705376</td>\n      <td>sec</td>\n    </tr>\n    <tr>\n      <th>1</th>\n      <td>2003</td>\n      <td>1272</td>\n      <td>29.0</td>\n      <td>23.0</td>\n      <td>6.0</td>\n      <td>2161.0</td>\n      <td>1909.0</td>\n      <td>762.0</td>\n      <td>1740.0</td>\n      <td>203.0</td>\n      <td>...</td>\n      <td>0.572881</td>\n      <td>14.068966</td>\n      <td>25.965517</td>\n      <td>22.896552</td>\n      <td>1.133384</td>\n      <td>1.521961</td>\n      <td>1.006348</td>\n      <td>1.099726</td>\n      <td>1.974522</td>\n      <td>cusa</td>\n    </tr>\n    <tr>\n      <th>2</th>\n      <td>2003</td>\n      <td>1266</td>\n      <td>28.0</td>\n      <td>23.0</td>\n      <td>5.0</td>\n      <td>2195.0</td>\n      <td>1895.0</td>\n      <td>762.0</td>\n      <td>1575.0</td>\n      <td>162.0</td>\n      <td>...</td>\n      <td>0.637926</td>\n      <td>13.107143</td>\n      <td>24.071429</td>\n      <td>23.607143</td>\n      <td>0.921537</td>\n      <td>1.093771</td>\n      <td>1.000138</td>\n      <td>1.019505</td>\n      <td>1.666506</td>\n      <td>cusa</td>\n    </tr>\n    <tr>\n      <th>3</th>\n      <td>2003</td>\n      <td>1296</td>\n      <td>31.0</td>\n      <td>17.0</td>\n      <td>14.0</td>\n      <td>2158.0</td>\n      <td>2164.0</td>\n      <td>755.0</td>\n      <td>1645.0</td>\n      <td>195.0</td>\n      <td>...</td>\n      <td>0.600218</td>\n      <td>13.000000</td>\n      <td>22.645161</td>\n      <td>22.387097</td>\n      <td>1.169261</td>\n      <td>1.084777</td>\n      <td>1.062561</td>\n      <td>0.959097</td>\n      <td>1.760450</td>\n      <td>mac</td>\n    </tr>\n    <tr>\n      <th>4</th>\n      <td>2003</td>\n      <td>1400</td>\n      <td>28.0</td>\n      <td>22.0</td>\n      <td>6.0</td>\n      <td>2208.0</td>\n      <td>1923.0</td>\n      <td>784.0</td>\n      <td>1748.0</td>\n      <td>164.0</td>\n      <td>...</td>\n      <td>0.582733</td>\n      <td>16.178571</td>\n      <td>26.142857</td>\n      <td>23.785714</td>\n      <td>0.981875</td>\n      <td>1.158110</td>\n      <td>1.092104</td>\n      <td>1.107236</td>\n      <td>1.791725</td>\n      <td>big_twelve</td>\n    </tr>\n  </tbody>\n</table>\n<p>5 rows × 45 columns</p>\n</div>"
     },
     "metadata": {},
     "execution_count": 9
    }
   ],
   "source": [
    "jack = addConferences(regSeasDetailedTotals, conferences)\n",
    "jack.head()"
   ]
  },
  {
   "cell_type": "code",
   "execution_count": 4,
   "metadata": {},
   "outputs": [
    {
     "output_type": "execute_result",
     "data": {
      "text/plain": "['RecordDif',\n 'PtsPGDif',\n 'PtsPGDifDif',\n 'TrueShtPercDif',\n 'ORPGDif',\n 'DRPGDif',\n 'AstPGDif',\n 'StlPGDif',\n 'BlkPGDif',\n 'TOPGDif',\n 'ATRDif']"
     },
     "metadata": {},
     "execution_count": 4
    }
   ],
   "source": [
    "xVariables[1:12]"
   ]
  },
  {
   "cell_type": "code",
   "execution_count": 5,
   "metadata": {},
   "outputs": [
    {
     "output_type": "stream",
     "name": "stdout",
     "text": "[-0.3000112640198275, -0.002747095279902614, 0.17618385050626156, 0.037458857171097176, 0.091408841627562, -0.10604946381149698, -0.037403770159481195, -0.03893248026459082, 0.1487904628442653, -0.05756544476815563, 0.3299547245146217]\n"
    }
   ],
   "source": [
    "chosenFeaturesDif = [x + 'Dif' for x in chosenFeatures]\n",
    "fullModel = generateModel(yVariable, xVariables[1:12], logRegDF)\n",
    "chosenModel = generateModel(yVariable, chosenFeaturesDif, logRegDF)\n",
    "print(list(fullModel.coef_[0]))"
   ]
  },
  {
   "cell_type": "code",
   "execution_count": 4,
   "metadata": {},
   "outputs": [],
   "source": [
    "jack = logisticSelectMulti(yVariable, xVariables, logRegDF, 10)"
   ]
  },
  {
   "cell_type": "code",
   "execution_count": 5,
   "metadata": {},
   "outputs": [
    {
     "output_type": "stream",
     "name": "stdout",
     "text": "SeedDif 0.2\nRecordDif 0.5\nPtsPGDif 0.5\nPtsPGDifDif 0.5\nTrueShtPercDif 0.6\nORPGDif 0.7\nDRPGDif 0.8\nAstPGDif 0.5\nStlPGDif 0.7\nBlkPGDif 0.5\nTOPGDif 0.6\nATRDif 0.8\nPFPGDif 0.8\nFTAPGDif 0.7\n"
    }
   ],
   "source": [
    "for i in range(len(jack)):\n",
    "    print(xVariables[i], jack[i])"
   ]
  },
  {
   "cell_type": "code",
   "execution_count": 3,
   "metadata": {},
   "outputs": [
    {
     "output_type": "stream",
     "name": "stdout",
     "text": "High seed wins model accuracy:  0.6428254109284762\nBetter record wins model accuracy:  0.5206574855619724\nBetter point differential wins model accuracy:  0.5824078187472235\nBetter point differential per game wins model accuracy:  0.5726343847179032\nBetter free throw percentage wins model accuracy:  0.3506726457399103\nBetter assist/turnover ratio wins model accuracy:  0.473542600896861\n"
    }
   ],
   "source": [
    "#trying models\n",
    "\n",
    "highSeedWinsAcc = tourneySimVsActual(list(range(2003, 2020)), highSeedWins, masterCompact)\n",
    "betterRecordWinsAcc = tourneySimVsActual(list(range(2003, 2020)), betterRecordWins, masterCompact)\n",
    "betterPtsDifWinsAcc = tourneySimVsActual(list(range(2003, 2020)), betterPtsDifWins, masterCompact)\n",
    "betterPtsDifPGWinsAcc = tourneySimVsActual(list(range(2003, 2020)), betterPtsDifPGWins, masterCompact)\n",
    "betterFTPercWinsAcc = tourneySimVsActual(list(range(2003, 2020)), betterFTPercWins, masterDetailed)\n",
    "betterAstTORatioWinsAcc = tourneySimVsActual(list(range(2003, 2020)), betterAstTORatioWins, masterDetailed)\n",
    "\n",
    "print('High seed wins model accuracy: ', highSeedWinsAcc)\n",
    "print('Better record wins model accuracy: ', betterRecordWinsAcc)\n",
    "print('Better point differential wins model accuracy: ', betterPtsDifWinsAcc)\n",
    "print('Better point differential per game wins model accuracy: ', betterPtsDifPGWinsAcc)\n",
    "print('Better free throw percentage wins model accuracy: ', betterFTPercWinsAcc)\n",
    "print('Better assist/turnover ratio wins model accuracy: ', betterAstTORatioWinsAcc)"
   ]
  },
  {
   "cell_type": "code",
   "execution_count": 4,
   "metadata": {},
   "outputs": [
    {
     "output_type": "stream",
     "name": "stdout",
     "text": "193.17635822296143\n"
    }
   ],
   "source": [
    "highSeedWinsAcc = tourneySimVsActual(list(range(2003, 2020)), highSeedWins, masterCompact)\n",
    "fullModelAcc = tourneySimVsActual(list(range(2003, 2020)), logRegPredictFull, masterDetailed)\n",
    "fullModelAccJr = tourneySimVsActual(list(range(2003, 2020)), logRegPredictFullJr, masterDetailed)\n",
    "\n",
    "print('Better seed wins (baseline): ', highSeedWinsAcc)\n",
    "print('Full model (using all variables above): ', fullModelAcc)\n",
    "print('Full model (using selected variables): ', fullModelAccJr)"
   ]
  },
  {
   "cell_type": "code",
   "execution_count": 5,
   "metadata": {},
   "outputs": [
    {
     "output_type": "execute_result",
     "data": {
      "text/plain": "6.9875965381774785"
     },
     "metadata": {},
     "execution_count": 5
    }
   ],
   "source": [
    "(masterDetailed['WStlPG'].mean() + masterDetailed['LStlPG'].mean()) / 2"
   ]
  },
  {
   "cell_type": "code",
   "execution_count": 2,
   "metadata": {},
   "outputs": [
    {
     "output_type": "stream",
     "name": "stdout",
     "text": "More steals accuracy:  0.3829596412556054\nFewer fouls accuracy:  0.42511210762331836\nDef rebounds accuracy:  0.3874439461883408\nMore blocks accuracy:  0.45112107623318387\n"
    }
   ],
   "source": [
    "moreStealsPGWinsAcc = tourneySimVsActual(list(range(2003, 2020)), moreStealsPGWins, masterDetailed)\n",
    "fewerFoulsPGWinsAcc = tourneySimVsActual(list(range(2003, 2020)), fewerFoulsPGWins, masterDetailed)\n",
    "moreDefReboundsPGWinsAcc = tourneySimVsActual(list(range(2003, 2020)), moreDefReboundsPGWins, masterDetailed)\n",
    "moreBlocksPGWinsAcc = tourneySimVsActual(list(range(2003, 2020)), moreBlocksPGWins, masterDetailed)\n",
    "\n",
    "print('More steals accuracy: ', moreStealsPGWinsAcc)\n",
    "print('Fewer fouls accuracy: ', fewerFoulsPGWinsAcc)\n",
    "print('Def rebounds accuracy: ', moreDefReboundsPGWinsAcc)\n",
    "print('More blocks accuracy: ', moreBlocksPGWinsAcc)"
   ]
  },
  {
   "cell_type": "code",
   "execution_count": 5,
   "metadata": {},
   "outputs": [
    {
     "output_type": "stream",
     "name": "stdout",
     "text": "Magic without seed:  0.5847533632286995\n"
    }
   ],
   "source": [
    "print('Magic without seed: ', magicSansSeedAcc)"
   ]
  },
  {
   "cell_type": "code",
   "execution_count": 6,
   "metadata": {},
   "outputs": [
    {
     "output_type": "stream",
     "name": "stdout",
     "text": "Better seed wins:  0.6358744394618834\nFull model:  0.3399103139013453\nPartial model:  0.6502242152466368\n"
    }
   ],
   "source": [
    "print('Better seed wins: ', highSeedWinsAcc)\n",
    "print('Full model: ', fullModelAcc)\n",
    "print('Partial model: ', fullModelAccJr)"
   ]
  },
  {
   "cell_type": "code",
   "execution_count": 11,
   "metadata": {},
   "outputs": [
    {
     "output_type": "stream",
     "name": "stdout",
     "text": "(836, 2) (279, 2) (836,) (279,)\n(836, 1) (279, 1) (836,) (279,)\n"
    },
    {
     "output_type": "execute_result",
     "data": {
      "text/plain": "0.942652329749104"
     },
     "metadata": {},
     "execution_count": 11
    }
   ],
   "source": [
    "### logistic regression preliminary analysis\n",
    "\n",
    "detailedLogRegDF = createDetailedLogRegDF(masterDetailed)\n",
    "\n",
    "y = detailedLogRegDF['gameOutcome'].to_numpy()\n",
    "\n",
    "logRegCols1 = ['SelfNumSeed', 'OppNumSeed']\n",
    "logRegDF2 = detailedLogRegDF[:]\n",
    "logRegDF2['NumSeedDiff'] = logRegDF2['SelfNumSeed'] - logRegDF2['OppNumSeed']\n",
    "x1 = detailedLogRegDF[logRegCols1].to_numpy()\n",
    "x2 = np.expand_dims(logRegDF2['NumSeedDiff'].to_numpy(), axis = 1)\n",
    "\n",
    "x1_train, x1_test, y1_train, y1_test = sklearn.model_selection.train_test_split(x1, y, test_size = 0.25, random_state = 1)\n",
    "x2_train, x2_test, y2_train, y2_test = sklearn.model_selection.train_test_split(x2, y, test_size = 0.25, random_state = 1)\n",
    "print(x1_train.shape, x1_test.shape, y1_train.shape, y1_test.shape)\n",
    "print(x2_train.shape, x2_test.shape, y2_train.shape, y2_test.shape)\n",
    "\n",
    "logreg1 = sklearn.linear_model.LogisticRegression()\n",
    "logreg2 = sklearn.linear_model.LogisticRegression()\n",
    "\n",
    "jack = logreg1.fit(x1_train, y1_train)\n",
    "karisch = logreg2.fit(x2_train, y2_train)\n",
    "\n",
    "jackpred = logreg1.predict(x1_test)\n",
    "karischpred = logreg2.predict(x2_test)\n",
    "\n",
    "(jackpred == karischpred).mean()"
   ]
  },
  {
   "cell_type": "code",
   "execution_count": 12,
   "metadata": {},
   "outputs": [],
   "source": [
    "def sigmoid(x):\n",
    "    return (1 / (1 + np.exp(-x)))\n",
    "\n",
    "def AIC(y, ySigmoid, k):\n",
    "    residuals = y - ySigmoid\n",
    "    RSS = (residuals ** 2).sum()\n",
    "    AIC = 2*k - 2*np.log(RSS)\n",
    "    return AIC\n",
    "\n",
    "def AICcomparison(AIC1, AIC2):\n",
    "    if AIC1 <= AIC2:\n",
    "        return np.exp((AIC1 - AIC2) / 2)\n",
    "    else:\n",
    "        return np.exp((AIC2 - AIC1) / 2)"
   ]
  },
  {
   "cell_type": "code",
   "execution_count": 28,
   "metadata": {},
   "outputs": [],
   "source": [
    "out = []\n",
    "\n",
    "for i in range(len(x2_test)):\n",
    "    iRaw = float(x2_test[i]) * float(karisch.coef_)\n",
    "    iSig = sigmoid(iRaw)\n",
    "    iPred = int(round(iSig))\n",
    "    out.append(iPred)\n",
    "\n",
    ""
   ]
  },
  {
   "cell_type": "code",
   "execution_count": 14,
   "metadata": {},
   "outputs": [
    {
     "output_type": "execute_result",
     "data": {
      "text/plain": "(1115, 79)"
     },
     "metadata": {},
     "execution_count": 14
    }
   ],
   "source": [
    "detailedLogRegDF.shape"
   ]
  },
  {
   "cell_type": "code",
   "execution_count": 46,
   "metadata": {},
   "outputs": [],
   "source": [
    "def AICcomparison(AIC1, AIC2):\n",
    "        return float(np.exp((AIC1 - AIC2) / 2))"
   ]
  },
  {
   "cell_type": "code",
   "execution_count": 54,
   "metadata": {},
   "outputs": [
    {
     "output_type": "execute_result",
     "data": {
      "text/plain": "0.006737946999085467"
     },
     "metadata": {},
     "execution_count": 54
    }
   ],
   "source": [
    "AICcomparison(90, 100)"
   ]
  }
 ],
 "metadata": {
  "language_info": {
   "name": "python",
   "codemirror_mode": {
    "name": "ipython",
    "version": 3
   },
   "version": "3.7.3-final"
  },
  "orig_nbformat": 2,
  "file_extension": ".py",
  "mimetype": "text/x-python",
  "name": "python",
  "npconvert_exporter": "python",
  "pygments_lexer": "ipython3",
  "version": 3,
  "kernelspec": {
   "name": "python37364bitanaconda3virtualenvbfa5aa89ad4a4a17a8c8a14bdb5884cf",
   "display_name": "Python 3.7.3 64-bit ('anaconda3': virtualenv)"
  }
 },
 "nbformat": 4,
 "nbformat_minor": 2
}